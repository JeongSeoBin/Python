{
 "cells": [
  {
   "cell_type": "code",
   "execution_count": 2,
   "metadata": {},
   "outputs": [
    {
     "name": "stdout",
     "output_type": "stream",
     "text": [
      "2020-08-10 09:28:34.432032\n"
     ]
    }
   ],
   "source": [
    "import datetime\n",
    "\n",
    "# now() : 컴퓨터 시스템의 날짜와 시간을 얻어 온다\n",
    "now = datetime.datetime.now()\n",
    "print(now)"
   ]
  },
  {
   "cell_type": "code",
   "execution_count": 3,
   "metadata": {},
   "outputs": [
    {
     "name": "stdout",
     "output_type": "stream",
     "text": [
      "2020-08-10 09:29:32.417559\n"
     ]
    }
   ],
   "source": [
    "from datetime import datetime\n",
    "now = datetime.now()\n",
    "print(now)"
   ]
  },
  {
   "cell_type": "code",
   "execution_count": 6,
   "metadata": {},
   "outputs": [
    {
     "name": "stdout",
     "output_type": "stream",
     "text": [
      "2020-08-10 09:32:34.575605\n",
      "2020\n",
      "8\n",
      "10\n",
      "0\n",
      "9\n",
      "32\n",
      "34\n",
      "575605\n",
      "575\n"
     ]
    }
   ],
   "source": [
    "from datetime import datetime as dt\n",
    "now = dt.now()\n",
    "print(now)\n",
    "\n",
    "print(now.year)             \n",
    "print(now.month) \n",
    "print(now.day)\n",
    "print(now.weekday())\n",
    "print(now.hour)\n",
    "print(now.minute)\n",
    "print(now.second)\n",
    "print(now.microsecond)\n",
    "print(now.microsecond // 1000)"
   ]
  },
  {
   "cell_type": "code",
   "execution_count": null,
   "metadata": {},
   "outputs": [],
   "source": [
    "# 날짜 및 시간 서식 지정하기\n",
    "# strtime('날짜 또는 시간 서식') : 날짜와 시간에 지정된 서식을 적용한다\n",
    "# ============================================\n",
    "# %Y => 년도 4자리\n",
    "# %y => 년도 2자리\n",
    "# %m => 월(숫자)\n",
    "# %B => 월(영어, 전체)\n",
    "# %b or %h => 월(영어, 3글자)\n",
    "# %d => 일\n",
    "# %A => 요일(영어, 전체)\n",
    "# %a => 요일(영어, 3글자)\n",
    "# ============================================\n",
    "# %H => 시간(24시각)\n",
    "# %I => 시간(12시각)\n",
    "# %M => 분\n",
    "# %S => 초\n",
    "# %f => 마이크로초\n",
    "# %p => AM/PM"
   ]
  },
  {
   "cell_type": "code",
   "execution_count": 7,
   "metadata": {},
   "outputs": [
    {
     "name": "stdout",
     "output_type": "stream",
     "text": [
      "2020-08-10\n",
      "2020-August-10\n",
      "2020-Aug-10\n",
      "2020-Aug-10\n",
      "Monday August-10-20\n",
      "09:32:34.575605\n",
      "AM 09:32:34\n"
     ]
    }
   ],
   "source": [
    "print(now.strftime('%Y-%m-%d'))\n",
    "print(now.strftime('%Y-%B-%d'))\n",
    "print(now.strftime('%Y-%b-%d'))\n",
    "print(now.strftime('%Y-%h-%d'))\n",
    "print(now.strftime('%A %B-%d-%y'))\n",
    "print(now.strftime('%H:%M:%S.%f'))\n",
    "print(now.strftime('%p %I:%M:%S'))"
   ]
  }
 ],
 "metadata": {
  "kernelspec": {
   "display_name": "Python 3",
   "language": "python",
   "name": "python3"
  },
  "language_info": {
   "codemirror_mode": {
    "name": "ipython",
    "version": 3
   },
   "file_extension": ".py",
   "mimetype": "text/x-python",
   "name": "python",
   "nbconvert_exporter": "python",
   "pygments_lexer": "ipython3",
   "version": "3.7.7"
  }
 },
 "nbformat": 4,
 "nbformat_minor": 4
}
