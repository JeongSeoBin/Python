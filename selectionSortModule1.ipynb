{
 "cells": [
  {
   "cell_type": "code",
   "execution_count": 2,
   "metadata": {},
   "outputs": [],
   "source": [
    "# 오름차순 정렬 함수\n",
    "def selectionSortAsc(data):\n",
    "    for i in range(0, len(data) - 1, 1):\n",
    "        for j in range(i + 1, len(data), 1):\n",
    "            if data[i] > data[j]:\n",
    "                data[i], data[j] = data[j], data[i]\n",
    "    return data\n",
    "\n",
    "# 내림차순 정렬 함수\n",
    "def selectionSortDesc(data):\n",
    "    for i in range(0, len(data) - 1, 1):\n",
    "        for j in range(i + 1, len(data), 1):\n",
    "            if data[i] < data[j]:\n",
    "                data[i], data[j] = data[j], data[i]\n",
    "    return data"
   ]
  },
  {
   "cell_type": "code",
   "execution_count": 3,
   "metadata": {},
   "outputs": [
    {
     "name": "stdout",
     "output_type": "stream",
     "text": [
      "i = 0, j = 1\n",
      "i = 0, j = 2\n",
      "i = 0, j = 3\n",
      "i = 0, j = 4\n",
      "******************************\n",
      "i = 1, j = 2\n",
      "i = 1, j = 3\n",
      "i = 1, j = 4\n",
      "******************************\n",
      "i = 2, j = 3\n",
      "i = 2, j = 4\n",
      "******************************\n",
      "i = 3, j = 4\n",
      "******************************\n",
      "1회전 결과 : [1, 8, 4, 9, 3]\n",
      "2회전 결과 : [1, 3, 8, 9, 4]\n",
      "3회전 결과 : [1, 3, 4, 9, 8]\n",
      "4회전 결과 : [1, 3, 4, 8, 9]\n",
      "정렬 결과 : [1, 3, 4, 8, 9]\n",
      "[1, 3, 4, 8, 9]\n",
      "[9, 8, 4, 3, 1]\n"
     ]
    }
   ],
   "source": [
    "for i in range(0, 4, 1):\n",
    "    for j in range(i + 1, 5, 1):\n",
    "        print('i = {}, j = {}'.format(i, j))\n",
    "    # ========================== j\n",
    "    print('*' * 30)\n",
    "    # ====================== i\n",
    "        \n",
    "data = [8, 3, 4, 9, 1]\n",
    "for i in range(0, 4, 1):\n",
    "    for j in range(i + 1, 5, 1):\n",
    "        # data 리스트의 i 번째 데이터와 j 번째 데이터를 비교해서 i 번째 데이터가 크면 두 \n",
    "        # 데이터를 교환한다. => 앞에 위치한 데이터가 크면 교환한다. \n",
    "        # => 큰 데이터가 뒤로간다. => 오름차순\n",
    "        # 부등호를 '<'로 변경하면 내림차순으로 정렬된다.\n",
    "        if data[i] > data[j]:\n",
    "            # temp = data[i]\n",
    "            # data[i] = data[j]\n",
    "            # data[j] = temp\n",
    "            data[i], data[j] = data[j], data[i]\n",
    "        # ======================== if\n",
    "    # ======================== for j => 회전종료\n",
    "    print('{}회전 결과 : {}'.format(i + 1, data))\n",
    "    # ======================== for i => 정렬종료\n",
    "print('정렬 결과 : {}'.format(data))\n",
    "        \n",
    "data = [8, 3, 4, 9, 1]\n",
    "data = selectionSortAsc(data)\n",
    "print(data)\n",
    "data = selectionSortDesc(data)\n",
    "print(data)"
   ]
  },
  {
   "cell_type": "code",
   "execution_count": 4,
   "metadata": {},
   "outputs": [
    {
     "name": "stderr",
     "output_type": "stream",
     "text": [
      "[NbConvertApp] Converting notebook selectionSortModule1.ipynb to script\n",
      "[NbConvertApp] Writing 1600 bytes to selectionSortModule1.py\n"
     ]
    }
   ],
   "source": [
    "! jupyter nbconvert --to script selectionSortModule1.ipynb"
   ]
  }
 ],
 "metadata": {
  "kernelspec": {
   "display_name": "Python 3",
   "language": "python",
   "name": "python3"
  },
  "language_info": {
   "codemirror_mode": {
    "name": "ipython",
    "version": 3
   },
   "file_extension": ".py",
   "mimetype": "text/x-python",
   "name": "python",
   "nbconvert_exporter": "python",
   "pygments_lexer": "ipython3",
   "version": "3.7.7"
  }
 },
 "nbformat": 4,
 "nbformat_minor": 4
}
