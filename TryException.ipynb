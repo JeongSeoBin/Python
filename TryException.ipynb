{
 "cells": [
  {
   "cell_type": "markdown",
   "metadata": {},
   "source": [
    "# 예외처리\n",
    "프로그램을 작성할 때 잘못 동작되는 것을 방지하기 위해서 에러가 발생한다\n",
    "try ~ exception를 사용하면 에러가 발생됐을 때 별도의 처리를 하거나 무시하고 프로그램을 실행할 수 있다\n",
    "try블록에는 에러가 발생될 것으로 예상되는 문장을 코딩하고 에러가 발생되면 처리할 문장을 exceopt블록에 코딩한다\n",
    "try블록의 코드를 실행하다가 에러가 발생되면 더 이상 try블록의 코드를 실행하지 않고 해당 에러의 exception블록의 코드를 실행한다\n",
    "\n",
    "try: -> 필수\n",
    "  에러가 발생될 것으로 예상되는 문장\n",
    "exception [에러 이름[as 변수]]: -> 필수\n",
    "  에러가 발생되면 실행할 문장\n",
    "finally: -> 선택사항\n",
    "  에러 발생 여부와 관계없이 무조건 실행할 문장"
   ]
  },
  {
   "cell_type": "code",
   "execution_count": 2,
   "metadata": {},
   "outputs": [],
   "source": [
    "# ZeroDivisionError\n",
    "#print(4/0) "
   ]
  },
  {
   "cell_type": "code",
   "execution_count": 3,
   "metadata": {},
   "outputs": [
    {
     "name": "stdout",
     "output_type": "stream",
     "text": [
      "나눗셈은 0으로 나눌 수 없습니다\n"
     ]
    }
   ],
   "source": [
    "try:\n",
    "    print(4/0)\n",
    "except:\n",
    "    print('나눗셈은 0으로 나눌 수 없습니다')\n",
    "    # pass\n",
    "    # 에러가 발생되었을 때 아무 작업도 하지 않으려면 pass를 사용하면 된다\n",
    "    "
   ]
  },
  {
   "cell_type": "code",
   "execution_count": 4,
   "metadata": {},
   "outputs": [
    {
     "ename": "IndexError",
     "evalue": "list index out of range",
     "output_type": "error",
     "traceback": [
      "\u001b[1;31m---------------------------------------------------------------------------\u001b[0m",
      "\u001b[1;31mIndexError\u001b[0m                                Traceback (most recent call last)",
      "\u001b[1;32m<ipython-input-4-bdc8fe8a8bd0>\u001b[0m in \u001b[0;36m<module>\u001b[1;34m\u001b[0m\n\u001b[0;32m      1\u001b[0m \u001b[0mdata\u001b[0m \u001b[1;33m=\u001b[0m \u001b[1;33m[\u001b[0m\u001b[1;36m1\u001b[0m\u001b[1;33m,\u001b[0m\u001b[1;36m2\u001b[0m\u001b[1;33m,\u001b[0m\u001b[1;36m3\u001b[0m\u001b[1;33m]\u001b[0m\u001b[1;33m\u001b[0m\u001b[1;33m\u001b[0m\u001b[0m\n\u001b[1;32m----> 2\u001b[1;33m \u001b[0mprint\u001b[0m\u001b[1;33m(\u001b[0m\u001b[0mdata\u001b[0m\u001b[1;33m[\u001b[0m\u001b[1;36m3\u001b[0m\u001b[1;33m]\u001b[0m\u001b[1;33m)\u001b[0m\u001b[1;33m\u001b[0m\u001b[1;33m\u001b[0m\u001b[0m\n\u001b[0m",
      "\u001b[1;31mIndexError\u001b[0m: list index out of range"
     ]
    }
   ],
   "source": [
    "# IndexError\n",
    "data = [1,2,3]\n",
    "print(data[3])"
   ]
  },
  {
   "cell_type": "code",
   "execution_count": 6,
   "metadata": {},
   "outputs": [
    {
     "name": "stdout",
     "output_type": "stream",
     "text": [
      "1\n",
      "리스트의 인덱스 지정이 올바르지 않습니다\n"
     ]
    }
   ],
   "source": [
    "try:\n",
    "    data = [1,2,3]\n",
    "    print(data[0])\n",
    "    print(data[3])\n",
    "    print(data[2])\n",
    "except:\n",
    "    print('리스트의 인덱스 지정이 올바르지 않습니다')"
   ]
  },
  {
   "cell_type": "code",
   "execution_count": 9,
   "metadata": {},
   "outputs": [
    {
     "name": "stdout",
     "output_type": "stream",
     "text": [
      "나눗셈은 0으로 할 수 없습니다\n",
      "division by zero\n",
      "에러 발생 여부와 상관없이 무조건 실행\n"
     ]
    }
   ],
   "source": [
    "try:\n",
    "    print(4/0)\n",
    "    data = [1,2,3]\n",
    "    pritn(data[2])\n",
    "    print(data[3])\n",
    "    print(data[2])\n",
    "# except뒤에 에러 이름을 적어 주면 지정된 에러만 except블록이 실행된다\n",
    "except IndexError:\n",
    "    print('리스트 인덱스 지정이 올바르지 않습니다')\n",
    "# 에러 이름 뒤에 as를 쓰고 변수를 적으면 변수에 에러 이름이 저장된다\n",
    "except ZeroDivisionError as e:\n",
    "    print('나눗셈은 0으로 할 수 없습니다')\n",
    "    print(e)\n",
    "# except만 사용히고 에러 이름을 지정하지 않으면 모든 에러에 대해서 except블록이 실행된다\n",
    "# 반드시 맨 마지막 except로 사용해야 한다\n",
    "except:\n",
    "    print('IndexError, ZeroDivisionError 이 외의 에러가 발생되면 실행됩니다.')\n",
    "finally:\n",
    "    print('에러 발생 여부와 상관없이 무조건 실행')"
   ]
  }
 ],
 "metadata": {
  "kernelspec": {
   "display_name": "Python 3",
   "language": "python",
   "name": "python3"
  },
  "language_info": {
   "codemirror_mode": {
    "name": "ipython",
    "version": 3
   },
   "file_extension": ".py",
   "mimetype": "text/x-python",
   "name": "python",
   "nbconvert_exporter": "python",
   "pygments_lexer": "ipython3",
   "version": "3.7.7"
  }
 },
 "nbformat": 4,
 "nbformat_minor": 4
}
