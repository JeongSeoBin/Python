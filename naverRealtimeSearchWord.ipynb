{
 "cells": [
  {
   "cell_type": "code",
   "execution_count": 5,
   "metadata": {},
   "outputs": [],
   "source": [
    "# 크롤링에 사용할 라이브러리를 설치하고 import한다\n",
    "# pip install requests\n",
    "import requests # 크롤링할 사이트에 접속해서 html문서를 읽어 온다\n",
    "# pip install beautifulsoup4\n",
    "from bs4 import BeautifulSoup # requests모듈을 사용해 읽어 온 html문서를 파싱한다"
   ]
  },
  {
   "cell_type": "code",
   "execution_count": 10,
   "metadata": {},
   "outputs": [
    {
     "name": "stdout",
     "output_type": "stream",
     "text": [
      "1세계 최초 코로나19 백신 등록\n",
      "2러시아 푸틴\n",
      "3추미애 검찰 개혁\n",
      "4푸틴 딸도 접종\n",
      "5수해 복구에 팔 걷었다\n",
      "6사망 32명 실종 10명\n",
      "7유튜버 뒷광고\n",
      "8광주시 시민\n",
      "9광주 전남10복구 구슬땀\n"
     ]
    }
   ],
   "source": [
    "# 네이버 실시간 검색어 크롤링\n",
    "html = requests.get('https://search.naver.com/search.naver')\n",
    "parsingdata = BeautifulSoup(html.text, 'html.parser')\n",
    "# 개발자 도구(F12)를 사용하여 살사건 검색어 코두룰 담당하고 있는 HTML소스를 찾는다\n",
    "result = parsingdata.find('div',{'class':'realtime_srch _aside_news_tab'})\n",
    "# 실시간 검색어 1위 ~ 10위가 CLASS가 'lst_realtime_srch _tab_area'인 OL태그에 종속되어 있다\n",
    "recently = result.find('ol',{'class':'lst_realtime_srch _tab_area'})\n",
    "\n",
    "recently = recently.text.replace('NEW','\\n')\n",
    "print(recently)"
   ]
  }
 ],
 "metadata": {
  "kernelspec": {
   "display_name": "Python 3",
   "language": "python",
   "name": "python3"
  },
  "language_info": {
   "codemirror_mode": {
    "name": "ipython",
    "version": 3
   },
   "file_extension": ".py",
   "mimetype": "text/x-python",
   "name": "python",
   "nbconvert_exporter": "python",
   "pygments_lexer": "ipython3",
   "version": "3.7.7"
  }
 },
 "nbformat": 4,
 "nbformat_minor": 4
}
