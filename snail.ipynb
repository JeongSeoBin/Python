{
 "cells": [
  {
   "cell_type": "code",
   "execution_count": 2,
   "metadata": {},
   "outputs": [],
   "source": [
    "a = [[i] * 5 for i in range(5)]\n",
    "\n",
    "n = 0 # 1에서 25까지 1씩 증가할 변수\n",
    "s = 1 # 행(i)과 열 (j)의 증가치로 사용할 변수(1 +> -1 => 1 => -1,,,)\n",
    "i = 0 # 행\n",
    "j = -1 # 열\n",
    "k = 5 # 행과 열에 수ㅅ자를 체우는 반복횟수로 사용할 변수"
   ]
  },
  {
   "cell_type": "code",
   "execution_count": 3,
   "metadata": {},
   "outputs": [
    {
     "name": "stdout",
     "output_type": "stream",
     "text": [
      " 1  2  3  4  5 \n",
      "16 17 18 19  6 \n",
      "15 24 25 20  7 \n",
      "14 23 22 21  8 \n",
      "13 12 11 10  9 \n"
     ]
    }
   ],
   "source": [
    "while True:\n",
    "    for p in range(1,k+1,1):\n",
    "        n += 1\n",
    "        j = j + s\n",
    "        a[i][j] = n\n",
    "    k -= 1 \n",
    "    if k <= 0:\n",
    "        break\n",
    "    for p in range(1,k+1,1): \n",
    "        n += 1\n",
    "        i = i + s\n",
    "        a[i][j] = n\n",
    "    s *= -1 \n",
    "    \n",
    "for i in range(5):\n",
    "    for j in range(5):\n",
    "        print('{0:2d} '.format(a[i][j]), end = '')\n",
    "    print()"
   ]
  }
 ],
 "metadata": {
  "kernelspec": {
   "display_name": "Python 3",
   "language": "python",
   "name": "python3"
  },
  "language_info": {
   "codemirror_mode": {
    "name": "ipython",
    "version": 3
   },
   "file_extension": ".py",
   "mimetype": "text/x-python",
   "name": "python",
   "nbconvert_exporter": "python",
   "pygments_lexer": "ipython3",
   "version": "3.7.7"
  }
 },
 "nbformat": 4,
 "nbformat_minor": 4
}
