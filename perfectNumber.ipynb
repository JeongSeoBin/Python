{
 "cells": [
  {
   "cell_type": "markdown",
   "metadata": {},
   "source": [
    "4 ~ 1000 사이의 완전수를 구해서 완전수와 완전수의 개수를 출력하는 프로그램\n",
    "완전수란 자기자신을 제외한 약수의 합이 자신과 같은 숫자를 말한다\n",
    "6의 약수는 1,2,3,6이고 자기자신인 6을 제외한 나머지 약수 1,2,3의 합계가 자기자신인 6이 되므로 6은 완전수이다"
   ]
  },
  {
   "cell_type": "code",
   "execution_count": 18,
   "metadata": {},
   "outputs": [
    {
     "name": "stdout",
     "output_type": "stream",
     "text": [
      "6 28 496 8128 "
     ]
    }
   ],
   "source": [
    "perN_list = [] # 완전수를 담는 리스트\n",
    "for i in range(4,10001): # 4 ~ 10000중 완전수를 구한다\n",
    "    list = [] # 약수를 담는 리스트\n",
    "    for j in range(1,i): # 완전수인지 판단하고자하는 숫자의 약수를 구한다\n",
    "        if i % j == 0:\n",
    "            list.append(j)\n",
    "            \n",
    "    total = 0\n",
    "    for k in list: # 약수리스트의 모든 수를 더한다\n",
    "        total += k\n",
    "    if total == i: # 약수리스트 합이 완전수인지 판단하고자하는 숫자랑 같으면 그 수는 완전수이다\n",
    "        perN_list.append(i) # 완전수이면 완전수리스트에 담는다\n",
    "            \n",
    "for i in perN_list:\n",
    "    print(i,end = \" \") # 완전수 리스트를 출력한다"
   ]
  },
  {
   "cell_type": "code",
   "execution_count": 19,
   "metadata": {},
   "outputs": [
    {
     "name": "stdout",
     "output_type": "stream",
     "text": [
      "1번째 완전수는 6입니다\n",
      "2번째 완전수는 28입니다\n",
      "3번째 완전수는 496입니다\n",
      "4번째 완전수는 8128입니다\n",
      "완전수의 개수는 4입니다\n"
     ]
    }
   ],
   "source": [
    "# 답\n",
    "count = 0 # 완전수릐 개수를 기억할 변수\n",
    "# 4~10000사이를 i값이 1씩 증가하며 반복한다 -> i가 완전수인지 판별한다\n",
    "for i in range(1,10001):\n",
    "    # 어떤 숫자를 나눠서 떨어 뜨릴 수 있는 가장 큰수는 자기자신을 제외하면 자신의 절반을 넘지 않는다\n",
    "    k = i // 2 # i를 2로 나눈 몫\n",
    "    # i를 1부터 i의 절반(k)까지 나누면서 떨어 질때가 약수이므로 약수의 합계를 계산한다\n",
    "    # for내부에 또 for가 나와야 할 때 반복에 사용하는 변수이름은 반드시 달라야 한다\n",
    "    total = 0 # 약수의 합계를 기억할 변수\n",
    "    for j in range(1,k+1):\n",
    "        if i % j == 0: # j가 i의 약수인가?\n",
    "            total += j # j가 i의 약수이므로 약수의 합계를 구한다\n",
    "    \n",
    "    # 완전수인가 판단한다\n",
    "    if i == total: # i가 완전수인가?\n",
    "        count += 1 # 완전수의 개수를 1증가한다\n",
    "        print('{}번째 완전수는 {}입니다'.format(count,i))\n",
    "        \n",
    "print('완전수의 개수는 {}입니다'.format(count))"
   ]
  }
 ],
 "metadata": {
  "kernelspec": {
   "display_name": "Python 3",
   "language": "python",
   "name": "python3"
  },
  "language_info": {
   "codemirror_mode": {
    "name": "ipython",
    "version": 3
   },
   "file_extension": ".py",
   "mimetype": "text/x-python",
   "name": "python",
   "nbconvert_exporter": "python",
   "pygments_lexer": "ipython3",
   "version": "3.7.6"
  }
 },
 "nbformat": 4,
 "nbformat_minor": 4
}
