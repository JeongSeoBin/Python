{
 "cells": [
  {
   "cell_type": "markdown",
   "metadata": {},
   "source": [
    "# 튜플만들기\n",
    "tuple은 list와 거의 비슷하지만 list는 []로 둘러 싸고 tuple은 ()로 둘러 싸고\n",
    "list는 데이터를 수정 삭제가 가능하지만 tuple은 불가능하다"
   ]
  },
  {
   "cell_type": "code",
   "execution_count": 1,
   "metadata": {},
   "outputs": [
    {
     "name": "stdout",
     "output_type": "stream",
     "text": [
      "()\n",
      "<class 'tuple'>\n",
      "()\n",
      "<class 'tuple'>\n"
     ]
    }
   ],
   "source": [
    "# 빈 튜플 만들기\n",
    "t1 = ()\n",
    "print(t1)\n",
    "print(type(t1))\n",
    "# 생성자를 이용해서 빈 튜플 만들기\n",
    "t2 = tuple()\n",
    "print(t2)\n",
    "print(type(t2))"
   ]
  },
  {
   "cell_type": "code",
   "execution_count": 6,
   "metadata": {},
   "outputs": [
    {
     "name": "stdout",
     "output_type": "stream",
     "text": [
      "(1,)\n",
      "<class 'tuple'>\n"
     ]
    }
   ],
   "source": [
    "# 1개 데이터만 가지는 튜플을 만들어야 할 경우 반드시 데이터 뒤에 ','를 찍어 줘야 한다\n",
    "t3 = (1,)\n",
    "print(t3)\n",
    "print(type(t3))"
   ]
  },
  {
   "cell_type": "code",
   "execution_count": 4,
   "metadata": {},
   "outputs": [
    {
     "name": "stdout",
     "output_type": "stream",
     "text": [
      "(1, 2)\n",
      "<class 'tuple'>\n"
     ]
    }
   ],
   "source": [
    "t4 = (1,2)\n",
    "print(t4)\n",
    "print(type(t4))"
   ]
  },
  {
   "cell_type": "code",
   "execution_count": 2,
   "metadata": {
    "scrolled": true
   },
   "outputs": [
    {
     "name": "stdout",
     "output_type": "stream",
     "text": [
      "(1, 2, 3, 4, 5, 6)\n",
      "<class 'tuple'>\n",
      "('a', 'b', ('ab', 'cd'))\n",
      "<class 'tuple'>\n"
     ]
    }
   ],
   "source": [
    "# 튜플은 ()를 생략해도 하나의 변수에 데이터를 ','로 구분헤서 여러개를 넣으면 튜플로 인식한다\n",
    "t5 = 1,2,3,4,5,6 # 튜플을 생성시 ()를 생략했다\n",
    "print(t5)\n",
    "print(type(t5))\n",
    "\n",
    "t6 = ('a', 'b', ('ab', 'cd'))\n",
    "print(t6)\n",
    "print(type(t6))\n",
    "\n",
    "# t6[0] = 'z' # 튜플에 저장된 데이터를 수정하려 했으므로 에러\n",
    "# del t6[0] # 튜플에 저장된 데이터를 삭제하려 했으므로 에러"
   ]
  },
  {
   "cell_type": "markdown",
   "metadata": {},
   "source": [
    "# 인덱싱과 슬라이싱\n",
    "리스트와 같이 인덱싱과 슬라이싱이 가능하다"
   ]
  },
  {
   "cell_type": "code",
   "execution_count": 7,
   "metadata": {},
   "outputs": [
    {
     "name": "stdout",
     "output_type": "stream",
     "text": [
      "a\n",
      "('ab', 'cd')\n",
      "ab\n",
      "***************************************************************************\n",
      "('a', 'b')\n",
      "('a', 'b')\n",
      "('b', ('ab', 'cd'))\n"
     ]
    }
   ],
   "source": [
    "print(t6[0])\n",
    "print(t6[2])\n",
    "print(t6[2][0])\n",
    "print('*' * 75)\n",
    "\n",
    "print(t6[0:2])\n",
    "print(t6[:2])\n",
    "print(t6[1:])"
   ]
  },
  {
   "cell_type": "markdown",
   "metadata": {},
   "source": [
    "# 튜플 연산자\n",
    "'+' : 튜플 연결\n",
    "'*' : 튜플 반복"
   ]
  },
  {
   "cell_type": "code",
   "execution_count": 3,
   "metadata": {},
   "outputs": [
    {
     "name": "stdout",
     "output_type": "stream",
     "text": [
      "(1, 2, 3, 4, 5, 6, 'a', 'b', ('ab', 'cd'))\n",
      "('a', 'b', ('ab', 'cd'), 'a', 'b', ('ab', 'cd'), 'a', 'b', ('ab', 'cd'))\n"
     ]
    }
   ],
   "source": [
    "print(t5 + t6)\n",
    "print(t6 * 3)"
   ]
  }
 ],
 "metadata": {
  "kernelspec": {
   "display_name": "Python 3",
   "language": "python",
   "name": "python3"
  },
  "language_info": {
   "codemirror_mode": {
    "name": "ipython",
    "version": 3
   },
   "file_extension": ".py",
   "mimetype": "text/x-python",
   "name": "python",
   "nbconvert_exporter": "python",
   "pygments_lexer": "ipython3",
   "version": "3.7.7"
  }
 },
 "nbformat": 4,
 "nbformat_minor": 4
}
