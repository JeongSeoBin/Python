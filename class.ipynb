{
 "cells": [
  {
   "cell_type": "markdown",
   "metadata": {},
   "source": [
    "# class\n",
    "class는 데이터와 데이터를 처리하는 함수를 가지고 있는 자료형이다(사용자 정의 자료형)\n",
    "class 클래스이름:\n",
    "   함수\n",
    "   : self -> class내부에서 정의하는 모든 함수는 첫 번째 인수로 무조건 클래스 자신을 의미하는 self를 사용해야 한다\n",
    "   \n",
    "     지역변수 -> 변수 이름 앞에 self를 붙이지 않은 변수\n",
    "                 클래스의 모든 함수에서 사용할 수 있다\n",
    "                 \n",
    "     생성자(constructor) -> 클래스의 객체가 생성될 때 자동으로 실행되는 함수\n",
    "                            def__init__(self[,인수, ..]) -> 파이썬의 생성자 함수로 이름이 정해져 있다\n",
    "                            class의 멤버변수를 초기화시키는 목적으로 사용된다\n",
    "                            -> 멤버변수 -> 변수 이름 앞에 self를 붙인 변수\n",
    "                                           self.변수\n",
    "                                           클래스의 모든 함수에서 사용할 수 있다\n",
    "                                           \n",
    "     클래스의 멤버변수에 저장된 데이터 출력에 사용하는 함수\n",
    "     -> 클래스로 생성한 객체를 print()로 출력할 때 객체에 저장된 데이터가 출력된다\n",
    "        def__str__(self):\n",
    "          return하는 데이터는 반드시 문자열 형태의 데이터만 return할 수 있다\n",
    "          return 출력할 데이터\n",
    "        def__str__()함수를 선언하지 않으면 객체를 생성한 클래스이름과 객체가 생성된 메모지 주소가 출력된다\n",
    "          \n",
    "       \n",
    "# 객체\n",
    "클래스 객체 생성 방법\n",
    ":객체이름 = 클래스 이름([인수,...])"
   ]
  },
  {
   "cell_type": "code",
   "execution_count": 4,
   "metadata": {},
   "outputs": [],
   "source": [
    "class Calculator:\n",
    "    # self는 클래스 자신을 의미하며 클래스 외부에서 호출될 때 자신의 정보가 저장된다\n",
    "    def __init__(self,*num):\n",
    "        print(\"생성자 함수는 클래스의 객체가 생성될 때 자동으로 실행됩니다\")\n",
    "        self.first = 0\n",
    "        self.second = 0\n",
    "        self.third = 0\n",
    "        # 멤버 변수 초기화\n",
    "        if len(num) == 1:\n",
    "            self.first = num[0]\n",
    "        elif len(num) == 2:\n",
    "            self.first = num[0]\n",
    "            self.second = num[1]\n",
    "        elif len(num) == 3:\n",
    "            self.first = num[0]\n",
    "            self.second = num[1]\n",
    "            self.third = num[2]\n",
    "            \n",
    "    def __str__(self):\n",
    "        return str(self.first + self.second + self.third)"
   ]
  },
  {
   "cell_type": "code",
   "execution_count": 5,
   "metadata": {},
   "outputs": [
    {
     "name": "stdout",
     "output_type": "stream",
     "text": [
      "생성자 함수는 클래스의 객체가 생성될 때 자동으로 실행됩니다\n",
      "0\n"
     ]
    }
   ],
   "source": [
    "cal0 = Calculator()\n",
    "print(cal0)"
   ]
  },
  {
   "cell_type": "code",
   "execution_count": 8,
   "metadata": {},
   "outputs": [
    {
     "name": "stdout",
     "output_type": "stream",
     "text": [
      "생성자 함수는 클래스의 객체가 생성될 때 자동으로 실행됩니다\n",
      "100\n"
     ]
    }
   ],
   "source": [
    "cal1 = Calculator(100)\n",
    "print(cal1)"
   ]
  },
  {
   "cell_type": "code",
   "execution_count": 9,
   "metadata": {},
   "outputs": [
    {
     "name": "stdout",
     "output_type": "stream",
     "text": [
      "생성자 함수는 클래스의 객체가 생성될 때 자동으로 실행됩니다\n",
      "300\n"
     ]
    }
   ],
   "source": [
    "cal2 = Calculator(100,200)\n",
    "print(cal2)"
   ]
  },
  {
   "cell_type": "code",
   "execution_count": 11,
   "metadata": {},
   "outputs": [
    {
     "name": "stdout",
     "output_type": "stream",
     "text": [
      "생성자 함수는 클래스의 객체가 생성될 때 자동으로 실행됩니다\n",
      "600\n"
     ]
    }
   ],
   "source": [
    "cal3 = Calculator(100,200,300)\n",
    "print(cal3)"
   ]
  },
  {
   "cell_type": "code",
   "execution_count": 18,
   "metadata": {},
   "outputs": [],
   "source": [
    "class Score:\n",
    "    # 생성자에서 Score클래스의 객체가 생성될 때 이름과 3과목의 점수를 넘겨 받아 멤버 변수를 초기화한다\n",
    "    def __init__(self, name, python, numpy, pandas):\n",
    "        # 생성자의 인수로 넘겨 받은 데이터로 멤버변수를 초기화한다\n",
    "        self.name = name\n",
    "        self.python = python\n",
    "        self.numpy =  numpy\n",
    "        self.pandas = pandas\n",
    "        \n",
    "        # 총 점과 평균을 계산한다\n",
    "        self.total = python + numpy + pandas\n",
    "        self.mean = self.total / 3\n",
    "        \n",
    "        # 클래스의 멤버 변수에 저장된 데이터를 출력하는 함수를 정의한다\n",
    "    def __str__(self):\n",
    "        return '이름 : {} python : {} numpy : {} pandas : {} 총점 : {} 평균 : {}'.format(self.name, self.python, self.pandas,self.numpy, self.total, self.mean)"
   ]
  },
  {
   "cell_type": "code",
   "execution_count": 19,
   "metadata": {},
   "outputs": [
    {
     "name": "stdout",
     "output_type": "stream",
     "text": [
      "이름 : 홍길동 python : 100 numpy : 80 pandas : 90 총점 : 270 평균 : 90.0\n"
     ]
    }
   ],
   "source": [
    "score1 = Score('홍길동',100,90,80)\n",
    "print(score1)"
   ]
  }
 ],
 "metadata": {
  "kernelspec": {
   "display_name": "Python 3",
   "language": "python",
   "name": "python3"
  },
  "language_info": {
   "codemirror_mode": {
    "name": "ipython",
    "version": 3
   },
   "file_extension": ".py",
   "mimetype": "text/x-python",
   "name": "python",
   "nbconvert_exporter": "python",
   "pygments_lexer": "ipython3",
   "version": "3.7.7"
  }
 },
 "nbformat": 4,
 "nbformat_minor": 4
}
