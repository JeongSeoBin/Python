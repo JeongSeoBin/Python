{
 "cells": [
  {
   "cell_type": "code",
   "execution_count": 9,
   "metadata": {},
   "outputs": [
    {
     "name": "stdout",
     "output_type": "stream",
     "text": [
      "달력을 출력할 년과 월을 입력하시오 : 2020 9\n",
      "============================\n",
      "        2020년  9월\n",
      "============================\n",
      " 일  월  화  수  목  금  토 \n",
      "============================\n",
      "         1   2   3   4   5  \n",
      " 6   7   8   9  10  11  12  \n",
      "13  14  15  16  17  18  19  \n",
      "20  21  22  23  24  25  26  \n",
      "27  28  29  30  "
     ]
    }
   ],
   "source": [
    "# 달력 프로그램에 사용할 모듈을 import시킨다\n",
    "from calendarModule import *\n",
    "\n",
    "# 달력을 출력할 년,월을 입력받는다\n",
    "year, month = map(int, input(\"달력을 출력할 년과 월을 입력하시오 : \").split())\n",
    "\n",
    "print('=' * 28)\n",
    "print('        {0:4d}년 {1:2d}월'.format(year,month))\n",
    "print('=' * 28)\n",
    "print(' 일  월  화  수  목  금  토 ')\n",
    "print('=' * 28)\n",
    "\n",
    "# 1일이 출력될 위치를 맞추기 위해 1일의 요일만큼 반복허며 빈 칸을 출력한다\n",
    "for i in range(weekDay(year, month, 1)):\n",
    "    print('    ', end = '')\n",
    "\n",
    "# 1일부터 달력을 출력할 달의 마지막 날짜까지 반복하며 날짜(i)를 출력한다\n",
    "for i in range(1, lastDay(year,month) + 1):\n",
    "    print('{0:2d}  '.format(i), end = '')\n",
    "    # 출력한 날짜가 토요일이고 그 달의 마지막 날짜가 아니라면 줄을 바꾼다\n",
    "    if weekDay(year, month, i) == 6 and i != lastDay(year,month):\n",
    "        print()"
   ]
  },
  {
   "cell_type": "code",
   "execution_count": 14,
   "metadata": {},
   "outputs": [
    {
     "name": "stdout",
     "output_type": "stream",
     "text": [
      "3\n"
     ]
    }
   ],
   "source": [
    "import calendar\n",
    "\n",
    "# 특정 해 1년 출력\n",
    "cal = calendar.calendar(2020)\n",
    "# print(cal)\n",
    "# print(calendar.prcal(2020))\n",
    "\n",
    "# 특정 달 1달 출력\n",
    "# print(calendar.prmonth(2020, 3)) \n",
    "\n",
    "# 요일 \n",
    "# 월(0), 화(1), 수(2), 목(3), 금(4), 토(5), 일(6)\n",
    "print(calendar.weekday(2020, 3, 5))\n"
   ]
  },
  {
   "cell_type": "code",
   "execution_count": 17,
   "metadata": {},
   "outputs": [
    {
     "name": "stdout",
     "output_type": "stream",
     "text": [
      "1 => 이번 달 달력 출력 2 => 특정 달 출력 : 2\n",
      "달력을 출력할 년과 월을 입력하시오 : 2020 10\n",
      "============================\n",
      "        2020년 10월\n",
      "============================\n",
      " 일  월  화  수  목  금  토 \n",
      "============================\n",
      "                 1   2   3  \n",
      " 4   5   6   7   8   9  10  \n",
      "11  12  13  14  15  16  17  \n",
      "18  19  20  21  22  23  24  \n",
      "25  26  27  28  29  30  31  "
     ]
    }
   ],
   "source": [
    "from calendarModule import *\n",
    "from datetime import datetime as dt\n",
    "\n",
    "n = int(input('1 => 이번 달 달력 출력 2 => 특정 달 출력 : '))\n",
    "if n == 1:\n",
    "    now = dt.now()\n",
    "    year = now.year\n",
    "    month = now.month\n",
    "else:\n",
    "    year, month = map(int, input('달력을 출력할 년과 월을 입력하시오 : ').split())\n",
    "    \n",
    "print('=' * 28)\n",
    "print('        {0:4d}년 {1:2d}월'.format(year,month))\n",
    "print('=' * 28)\n",
    "print(' 일  월  화  수  목  금  토 ')\n",
    "print('=' * 28)\n",
    "\n",
    "# 1일이 출력될 위치를 맞추기 위해 1일의 요일만큼 반복허며 빈 칸을 출력한다\n",
    "for i in range(weekDay(year, month, 1)):\n",
    "    print('    ', end = '')\n",
    "\n",
    "# 1일부터 달력을 출력할 달의 마지막 날짜까지 반복하며 날짜(i)를 출력한다\n",
    "for i in range(1, lastDay(year,month) + 1):\n",
    "    print('{0:2d}  '.format(i), end = '')\n",
    "    # 출력한 날짜가 토요일이고 그 달의 마지막 날짜가 아니라면 줄을 바꾼다\n",
    "    if weekDay(year, month, i) == 6 and i != lastDay(year,month):\n",
    "        print()"
   ]
  }
 ],
 "metadata": {
  "kernelspec": {
   "display_name": "Python 3",
   "language": "python",
   "name": "python3"
  }
 },
 "nbformat": 4,
 "nbformat_minor": 4
}
