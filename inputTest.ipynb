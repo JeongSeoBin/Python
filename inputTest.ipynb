{
 "cells": [
  {
   "cell_type": "markdown",
   "metadata": {},
   "source": [
    "# 변수\n",
    "변수는 처리할 데이터를 저장시키는 기억장소를 말한다\n",
    "\n",
    "변수이름 작성법\n",
    "영문자 숫자 특수문자(_)만 사용할 수 있고 대소문자 구분한다\n",
    "반드시 문자로 시작해야 한다\n",
    "예약어는 사용할 수 없다\n",
    "\n",
    "변수선언\n",
    "JAVA C C++과 달리 변수의 자료형을 지정하지 않으며 변수에 저장된 데이터의 타입에 따라 자동으로 변수의 타입이 결정된다\n",
    "\n",
    "변수제거\n",
    "del 명령어를 사용한다"
   ]
  },
  {
   "cell_type": "code",
   "execution_count": 4,
   "metadata": {},
   "outputs": [
    {
     "name": "stdout",
     "output_type": "stream",
     "text": [
      "홍길동\n",
      "<class 'str'>\n",
      "23\n",
      "<class 'int'>\n",
      "163.4\n",
      "<class 'float'>\n",
      "True\n",
      "<class 'bool'>\n",
      "None\n",
      "<class 'NoneType'>\n"
     ]
    }
   ],
   "source": [
    "name = \"홍길동\"\n",
    "print(name)\n",
    "# type() : 인수로 지정된 기억장소의 자료형을 얻어 온다\n",
    "print(type(name)) \n",
    "age = 23\n",
    "print(age)\n",
    "print(type(age))\n",
    "height = 163.4\n",
    "print(height)\n",
    "print(type(height))\n",
    "# 논리값 True False는 반드시 첫 문자만 대문자를 시용한다\n",
    "isGender = True \n",
    "print(isGender)\n",
    "print(type(isGender))\n",
    "# 빈 변수를 만든다\n",
    "none = None\n",
    "print(none)\n",
    "print(type(none))\n",
    "\n",
    "del name\n",
    "# print(name) 변수를 메모리에서 제거했으므로 에러발생"
   ]
  },
  {
   "cell_type": "markdown",
   "metadata": {},
   "source": [
    "# input() 함수\n",
    "키보드로 입력받은 모든 데이터를 문자열 형태로 입력받는다\n",
    "\n",
    "input() 함수의 인수로 문자열을 입력하면 입력받기 전에 문자열을 메시지로 출력한다"
   ]
  },
  {
   "cell_type": "code",
   "execution_count": 6,
   "metadata": {},
   "outputs": [
    {
     "name": "stdout",
     "output_type": "stream",
     "text": [
      "이름을 입력하시오:정서빈\n",
      "정서빈님 안녕하세요\n",
      "정서빈님 안녕하세요\n",
      "정서빈님 안녕하세요\n",
      "정서빈       님 안녕하세요\n",
      "정서빈님 안녕하세요\n",
      "별명을 입력하시오 : 빈이\n",
      "나이를 입력하시오 : 23\n",
      "빈이님은 23살 입니다\n",
      "빈이님은 내년에 24.0살 입니다\n"
     ]
    }
   ],
   "source": [
    "print(\"이름을 입력하시오:\", end = '')\n",
    "name = input()\n",
    "print('%s님 안녕하세요' % name)\n",
    "print('{}님 안녕하세요'.format(name))\n",
    "print('{0}님 안녕하세요'.format(name))\n",
    "print('{0:10s}님 안녕하세요'.format(name))\n",
    "print(f'{name}님 안녕하세요')\n",
    "\n",
    "nickname = input('별명을 입력하시오 : ')\n",
    "age = input('나이를 입력하시오 : ')\n",
    "print('{0}님은 {1}살 입니다'.format(nickname,age))\n",
    "# float() : 인수로 지정된 문자열을 실수로 변환\n",
    "print('{}님은 내년에 {}살 입니다'.format(nickname,float(age) + 1)) "
   ]
  },
  {
   "cell_type": "markdown",
   "metadata": {},
   "source": [
    "# 여러 데이터 입력받기\n",
    "split(구분자)\n",
    "여러 데이터를 입력받을 때 split(구분자)를 사용해서 구분자를 경계로 문지열을 분리한다\n",
    "구문자를 생략하면 공백이 기본값\n",
    "\n",
    "map(dataType,data)\n",
    "입력받은 데이터를 일괄적으로 숫자로 변환시킬 수 있다"
   ]
  },
  {
   "cell_type": "code",
   "execution_count": 11,
   "metadata": {},
   "outputs": [
    {
     "name": "stdout",
     "output_type": "stream",
     "text": [
      "이름과 나이를 입력하시오정서빈,23\n",
      "정서빈님은 23살 입니다\n",
      "python java jsp 과목 점수를 입력하시오:100 100 100\n",
      "총 점 : 100100100\n",
      "총 범 : 300\n",
      "3과목의 점수를 입력하시오 : 100 100 100\n",
      "총 점 : 300\n"
     ]
    }
   ],
   "source": [
    "name,age = input('이름과 나이를 입력하시오').split(',')\n",
    "print('{}님은 {}살 입니다'.format(name,age))\n",
    "\n",
    "python,java,jsp = input('python java jsp 과목 점수를 입력하시오:').split()\n",
    "# '+' 연산자는 문자열과 문자열 사이에 있으면 문자열을 연결한다\n",
    "print('총 점 : {}'.format(python + java + jsp))\n",
    "# '+' 연산자는 숫자와 숫자 사이에 있으면 뎃셈을 한다\n",
    "# int() : 인수로 지정된 문자열을 정수로 변환\n",
    "print('총 범 : {}'.format(int(python) + int(java) + int(jsp)))\n",
    "\n",
    "python,java,jsp = map(int,input('3과목의 점수를 입력하시오 : ').split())\n",
    "print('총 점 : {}'.format(python + java + jsp))"
   ]
  }
 ],
 "metadata": {
  "kernelspec": {
   "display_name": "Python 3",
   "language": "python",
   "name": "python3"
  },
  "language_info": {
   "codemirror_mode": {
    "name": "ipython",
    "version": 3
   },
   "file_extension": ".py",
   "mimetype": "text/x-python",
   "name": "python",
   "nbconvert_exporter": "python",
   "pygments_lexer": "ipython3",
   "version": "3.7.7"
  }
 },
 "nbformat": 4,
 "nbformat_minor": 4
}
