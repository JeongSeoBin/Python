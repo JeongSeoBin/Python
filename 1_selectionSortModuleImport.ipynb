{
 "cells": [
  {
   "cell_type": "markdown",
   "metadata": {},
   "source": [
    "# import\n",
    "import하는 모듈의 이름은 문자로 시작해야 한다\n",
    "사용자가 만든 파이썬 파일도 import시켜서 사용할 수 있다\n",
    "\n",
    "# import된 모듈에 정의된 함수 실행\n",
    "모듈이름.함수이름 형태로 사용하면 된다"
   ]
  },
  {
   "cell_type": "code",
   "execution_count": 10,
   "metadata": {},
   "outputs": [
    {
     "name": "stdout",
     "output_type": "stream",
     "text": [
      "1_selectionSortModuleImport.ipynb 파일에서 실행되는 프로그램\n",
      "오름차순 결과 : [1, 3, 4, 8, 9, 100]\n",
      "내림차순 결과 : [100, 9, 8, 4, 3, 1]\n"
     ]
    }
   ],
   "source": [
    "# 모듈 작성시 if__name == '__main__': 을 사용한 모듈\n",
    "import selectionSortModule\n",
    "\n",
    "print('1_selectionSortModuleImport.ipynb 파일에서 실행되는 프로그램')\n",
    "data = [8,3,4,9,1,100]\n",
    "data = selectionSortModule.selectionSortAsc(data)\n",
    "print('오름차순 결과 : {}'.format(data))\n",
    "data = selectionSortModule.selectionSortDesc(data)\n",
    "print('내림차순 결과 : {}'.format(data))"
   ]
  },
  {
   "cell_type": "code",
   "execution_count": 1,
   "metadata": {},
   "outputs": [
    {
     "name": "stdout",
     "output_type": "stream",
     "text": [
      "i = 0, j = 1\n",
      "i = 0, j = 2\n",
      "i = 0, j = 3\n",
      "i = 0, j = 4\n",
      "******************************\n",
      "i = 1, j = 2\n",
      "i = 1, j = 3\n",
      "i = 1, j = 4\n",
      "******************************\n",
      "i = 2, j = 3\n",
      "i = 2, j = 4\n",
      "******************************\n",
      "i = 3, j = 4\n",
      "******************************\n",
      "1회전 결과 : [1, 8, 4, 9, 3]\n",
      "2회전 결과 : [1, 3, 8, 9, 4]\n",
      "3회전 결과 : [1, 3, 4, 9, 8]\n",
      "4회전 결과 : [1, 3, 4, 8, 9]\n",
      "정렬 결과 : [1, 3, 4, 8, 9]\n",
      "[1, 3, 4, 8, 9]\n",
      "[9, 8, 4, 3, 1]\n",
      "19_1_selectionSortModuleImport.ipynb 파일에서 실행되는 프로그램\n",
      "오름차순 정렬 결과 : [1, 3, 4, 8, 9]\n",
      "내림차순 정렬 결과 : [9, 8, 4, 3, 1]\n"
     ]
    },
    {
     "name": "stderr",
     "output_type": "stream",
     "text": [
      "[NbConvertApp] Converting notebook selectionSortModule1.ipynb to script\n",
      "[NbConvertApp] Writing 1569 bytes to selectionSortModule1.py\n"
     ]
    }
   ],
   "source": [
    "# 모듈 작성시 if __name__ == '__main__':를 사용하지 않은 모듈\n",
    "import selectionSortModule1\n",
    "\n",
    "print('19_1_selectionSortModuleImport.ipynb 파일에서 실행되는 프로그램')\n",
    "data = [8, 3, 4, 9, 1]\n",
    "data = selectionSortModule1.selectionSortAsc(data)\n",
    "print('오름차순 정렬 결과 : {}'.format(data))\n",
    "data = selectionSortModule1.selectionSortDesc(data)\n",
    "print('내림차순 정렬 결과 : {}'.format(data))"
   ]
  }
 ],
 "metadata": {
  "kernelspec": {
   "display_name": "Python 3",
   "language": "python",
   "name": "python3"
  },
  "language_info": {
   "codemirror_mode": {
    "name": "ipython",
    "version": 3
   },
   "file_extension": ".py",
   "mimetype": "text/x-python",
   "name": "python",
   "nbconvert_exporter": "python",
   "pygments_lexer": "ipython3",
   "version": "3.7.7"
  }
 },
 "nbformat": 4,
 "nbformat_minor": 4
}
