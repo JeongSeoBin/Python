{
 "cells": [
  {
   "cell_type": "code",
   "execution_count": 2,
   "metadata": {},
   "outputs": [],
   "source": [
    "r = 3\n",
    "delivery = [[1, 5], [8, 3], [4, 2], \n",
    "            [2, 3], [3, 1], [3, 2],\n",
    "            [4, 2], [5, 2], [4, 1]]\n",
    "index =  [[0, 0], [0, 1], [0, 2], \n",
    "          [1, 0], [1, 1], [1, 2], \n",
    "          [2, 0], [2, 1], [2, 2]]"
   ]
  },
  {
   "cell_type": "code",
   "execution_count": 3,
   "metadata": {},
   "outputs": [
    {
     "name": "stdout",
     "output_type": "stream",
     "text": [
      "[1, 5]([0, 0])[8, 3]([0, 1])[4, 2]([0, 2])\n",
      "[2, 3]([1, 0])[3, 1]([1, 1])[3, 2]([1, 2])\n",
      "[4, 2]([2, 0])[5, 2]([2, 1])[4, 1]([2, 2])\n"
     ]
    }
   ],
   "source": [
    "for i in  range(r):\n",
    "    for j in range(r):\n",
    "        print('{}({})'.format(delivery[i * r + j], index[i * r + j]), end = '')\n",
    "    print()"
   ]
  },
  {
   "cell_type": "code",
   "execution_count": 4,
   "metadata": {},
   "outputs": [
    {
     "name": "stdout",
     "output_type": "stream",
     "text": [
      "[[1, 5], [2, 3], [3, 2], [3, 1], [4, 2], [4, 2], [4, 1], [5, 2], [8, 3]]\n",
      "[[0, 0], [1, 0], [1, 2], [1, 1], [0, 2], [2, 0], [2, 2], [2, 1], [0, 1]]\n"
     ]
    }
   ],
   "source": [
    "# 선택정렬을 이용해서 제한시간 오름차순으로 정렬하고\n",
    "# 제한 시간이 같은 경우는 팁의 내림차순으로 정렬한다\n",
    "deliverySort = delivery\n",
    "indexSort = index\n",
    "for i in range(len(deliverySort) - 1):\n",
    "    for j in range(i+1, len(deliverySort)):\n",
    "        if deliverySort[i][0] > delivery[j][0]:\n",
    "            deliverySort[i], deliverySort[j] = deliverySort[j], deliverySort[i]\n",
    "            index[i], index[j] = index[j],index[i]\n",
    "        elif deliverySort[i][0] == delivery[j][0]:\n",
    "            if deliverySort[i][1] < deliverySort[j][1]:\n",
    "                deliverySort[i], deliverySort[j] = deliverySort[j], deliverySort[i]\n",
    "                index[i], index[j] = index[j],index[i]\n",
    "                \n",
    "print(deliverySort)\n",
    "print(indexSort)   "
   ]
  },
  {
   "cell_type": "code",
   "execution_count": null,
   "metadata": {},
   "outputs": [],
   "source": []
  }
 ],
 "metadata": {
  "kernelspec": {
   "display_name": "Python 3",
   "language": "python",
   "name": "python3"
  },
  "language_info": {
   "codemirror_mode": {
    "name": "ipython",
    "version": 3
   },
   "file_extension": ".py",
   "mimetype": "text/x-python",
   "name": "python",
   "nbconvert_exporter": "python",
   "pygments_lexer": "ipython3",
   "version": "3.7.7"
  }
 },
 "nbformat": 4,
 "nbformat_minor": 4
}
