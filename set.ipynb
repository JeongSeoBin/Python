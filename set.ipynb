{
 "cells": [
  {
   "cell_type": "markdown",
   "metadata": {},
   "source": [
    "# set\n",
    "set은 수학의 집합과 비슷한 형태\n",
    "중복되는 데이터의 입력을 허용하지 않는다\n",
    "데이터를 입력하는 순서와 실제로 데이터가 저장되는 순서가 다르다\n",
    "딕셔너리처럼 {}를 사용해서 선언하지만 key가 존재하지 않고 value만 존재한다"
   ]
  },
  {
   "cell_type": "markdown",
   "metadata": {},
   "source": [
    "# set 생성"
   ]
  },
  {
   "cell_type": "code",
   "execution_count": 1,
   "metadata": {},
   "outputs": [
    {
     "name": "stdout",
     "output_type": "stream",
     "text": [
      "<class 'list'>\n",
      "<class 'list'>\n",
      "<class 'tuple'>\n",
      "<class 'tuple'>\n",
      "<class 'dict'>\n",
      "<class 'dict'>\n",
      "<class 'set'>\n"
     ]
    }
   ],
   "source": [
    "l1 = []\n",
    "print(type(l1))\n",
    "l2 = list()\n",
    "print(type(l2))\n",
    "t = ()\n",
    "print(type(t))\n",
    "t = tuple()\n",
    "print(type(t))\n",
    "d = {}\n",
    "print(type(d))\n",
    "d = dict()\n",
    "print(type(d))\n",
    "# 빈 set은 반드시 생성자를 사용해서 만들어야 한다\n",
    "s = set()\n",
    "print(type(s))"
   ]
  },
  {
   "cell_type": "code",
   "execution_count": 2,
   "metadata": {},
   "outputs": [
    {
     "name": "stdout",
     "output_type": "stream",
     "text": [
      "{1, 2, 3, 4}\n",
      "<class 'set'>\n",
      "{1, 2, 3, 4, 5, 6}\n",
      "<class 'set'>\n",
      "{1, 2, 3, 4}\n",
      "<class 'set'>\n",
      "{1, 2, 3, 4}\n",
      "<class 'set'>\n"
     ]
    }
   ],
   "source": [
    "s1 = {1,2,3,4}\n",
    "print(s1)\n",
    "print(type(s1))\n",
    "# set은 중복되는 데이터 입력을 허용하지 않는다\n",
    "s2 = {1,2,3,4,5,2,4,6,1,3,1}\n",
    "print(s2)\n",
    "print(type(s2))\n",
    "# 리스트를 생성지의 인수로 지정해서 set을 만들 수 있다\n",
    "s3 = set([1,2,3,4])\n",
    "print(s3)\n",
    "print(type(s3))\n",
    "# 튜플을 생성자의 인수로 지정해서 set을 만들 수 있다\n",
    "s4 = set((1,2,3,4))\n",
    "print(s4)\n",
    "print(type(s4))"
   ]
  },
  {
   "cell_type": "markdown",
   "metadata": {},
   "source": [
    "# set 메소드\n",
    "add() : set에 데이터 1건을 추가\n",
    "update() : set에 리스트를 이용해서 여러 데이터를 한 번에 추가\n",
    "remove() & discard() : set에 저장된 데이터를 제거\n",
    "copy() : set을 복사"
   ]
  },
  {
   "cell_type": "code",
   "execution_count": 10,
   "metadata": {},
   "outputs": [
    {
     "name": "stdout",
     "output_type": "stream",
     "text": [
      "{'홍길동'}\n",
      "{'홍길동', '장길산'}\n",
      "{'임꺽정', '홍길동', '장길산'}\n",
      "{'일지매', '임꺽정', '홍길동', '장길산'}\n"
     ]
    }
   ],
   "source": [
    "s5 = {'홍길동'}\n",
    "print(s5)\n",
    "# add()\n",
    "# 데이터를 저장하는 순서와 실제 데이터가 저장되는 순서는 다르다\n",
    "s5.add('장길산')\n",
    "print(s5)\n",
    "s5.add('임꺽정')\n",
    "print(s5)\n",
    "s5.add('일지매')\n",
    "print(s5)"
   ]
  },
  {
   "cell_type": "code",
   "execution_count": 4,
   "metadata": {},
   "outputs": [
    {
     "name": "stdout",
     "output_type": "stream",
     "text": [
      "True\n",
      "False\n",
      "False\n",
      "True\n"
     ]
    }
   ],
   "source": [
    "print('홍길동' in s5)\n",
    "print('홍길자' in s5)\n",
    "print('홍길동' not in s5)\n",
    "print('홍길자' not in s5)"
   ]
  },
  {
   "cell_type": "code",
   "execution_count": 11,
   "metadata": {},
   "outputs": [
    {
     "name": "stdout",
     "output_type": "stream",
     "text": [
      "{'손오공', '사오정', '일지매', '임꺽정', '홍길동', '저팔계', '장길산'}\n"
     ]
    }
   ],
   "source": [
    "# update()\n",
    "s5.update(['손오공','저팔계','사오정'])\n",
    "print(s5)"
   ]
  },
  {
   "cell_type": "code",
   "execution_count": 12,
   "metadata": {},
   "outputs": [
    {
     "name": "stdout",
     "output_type": "stream",
     "text": [
      "{'손오공', '사오정', '일지매', '임꺽정', '저팔계', '장길산'}\n"
     ]
    }
   ],
   "source": [
    "# remove()\n",
    "s5.remove('홍길동')\n",
    "print(s5)\n",
    "# s5.remove('홍길동') # remove()는 set내에 존재하지 않는 데이터를 삭제하려 했으므로 에러"
   ]
  },
  {
   "cell_type": "code",
   "execution_count": 13,
   "metadata": {},
   "outputs": [
    {
     "name": "stdout",
     "output_type": "stream",
     "text": [
      "{'손오공', '사오정', '일지매', '저팔계', '장길산'}\n"
     ]
    }
   ],
   "source": [
    "# discard()\n",
    "s5.discard('임꺽정')\n",
    "print(s5)\n",
    "s5.discard('임꺽정') # discard()는 set에 존재하지 않는 데이터를 삭제해도 에러가 발생하지 않는다"
   ]
  },
  {
   "cell_type": "code",
   "execution_count": 14,
   "metadata": {},
   "outputs": [
    {
     "name": "stdout",
     "output_type": "stream",
     "text": [
      "{'손오공', '사오정', '일지매', '저팔계', '장길산'}\n",
      "{'저팔계', '손오공', '사오정', '일지매', '장길산'}\n"
     ]
    }
   ],
   "source": [
    "# copy()\n",
    "s6 = s5\n",
    "print(s6)\n",
    "s7 = s5.copy()\n",
    "print(s7)"
   ]
  },
  {
   "cell_type": "markdown",
   "metadata": {},
   "source": [
    "# 집합연산자와 메소드\n",
    "합집합 : union(), |\n",
    "교집합 : intersection(), &\n",
    "차집합 : difference(), -\n",
    "대칭 차집합(합집합 - 차집합) : symmetric_difference(), ^"
   ]
  },
  {
   "cell_type": "code",
   "execution_count": 17,
   "metadata": {},
   "outputs": [
    {
     "name": "stdout",
     "output_type": "stream",
     "text": [
      "{1, 2, 3, 4, 5, 6, 7}\n",
      "{1, 2, 3, 4, 5, 6, 7}\n",
      "{3, 4, 5}\n",
      "{3, 4, 5}\n",
      "{1, 2}\n",
      "{1, 2}\n",
      "{6, 7}\n",
      "{6, 7}\n",
      "{1, 2, 6, 7}\n",
      "{1, 2, 6, 7}\n"
     ]
    }
   ],
   "source": [
    "a = {1,2,3,4,5}\n",
    "b = {3,4,5,6,7}\n",
    "# 합집합\n",
    "print(a.union(b))\n",
    "print(a | b)\n",
    "# 교집합\n",
    "print(a.intersection(b))\n",
    "print(a & b)\n",
    "# 차집합\n",
    "print(a.difference(b))\n",
    "print(a - b)\n",
    "print(b.difference(a))\n",
    "print(b - a)\n",
    "# 대칭 차집합(합집합 - 교집합)\n",
    "print(a.symmetric_difference(b))\n",
    "print(a ^ b)"
   ]
  }
 ],
 "metadata": {
  "kernelspec": {
   "display_name": "Python 3",
   "language": "python",
   "name": "python3"
  },
  "language_info": {
   "codemirror_mode": {
    "name": "ipython",
    "version": 3
   },
   "file_extension": ".py",
   "mimetype": "text/x-python",
   "name": "python",
   "nbconvert_exporter": "python",
   "pygments_lexer": "ipython3",
   "version": "3.7.7"
  }
 },
 "nbformat": 4,
 "nbformat_minor": 4
}
