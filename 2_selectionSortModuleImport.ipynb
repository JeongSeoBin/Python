{
 "cells": [
  {
   "cell_type": "markdown",
   "metadata": {},
   "source": [
    "# import하는 모듈 이름이 긴 경우\n",
    "as를 이용해서 별명을 지정할 수 있다\n",
    "별명이 지정되면 원래 모듈이름은 사용할 수 없고 별명으로 지정한 이름을 사용해야 한다"
   ]
  },
  {
   "cell_type": "code",
   "execution_count": 3,
   "metadata": {},
   "outputs": [
    {
     "name": "stdout",
     "output_type": "stream",
     "text": [
      "오름차순 결과 : [1, 3, 4, 8, 9, 100]\n",
      "내림차순 결과 : [100, 9, 8, 4, 3, 1]\n"
     ]
    }
   ],
   "source": [
    "import selectionSortModule as ssm\n",
    "\n",
    "# data = selectionSortModule.selectionSortAsc(data) : name 'selectionSortModule' is not defined\n",
    "data = [8,3,4,9,1,100]\n",
    "data = ssm.selectionSortAsc(data)\n",
    "print('오름차순 결과 : {}'.format(data))\n",
    "data = ssm.selectionSortDesc(data)\n",
    "print('내림차순 결과 : {}'.format(data))"
   ]
  }
 ],
 "metadata": {
  "kernelspec": {
   "display_name": "Python 3",
   "language": "python",
   "name": "python3"
  },
  "language_info": {
   "codemirror_mode": {
    "name": "ipython",
    "version": 3
   },
   "file_extension": ".py",
   "mimetype": "text/x-python",
   "name": "python",
   "nbconvert_exporter": "python",
   "pygments_lexer": "ipython3",
   "version": "3.7.7"
  }
 },
 "nbformat": 4,
 "nbformat_minor": 4
}
