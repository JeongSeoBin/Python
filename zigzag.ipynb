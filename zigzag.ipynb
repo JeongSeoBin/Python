{
 "cells": [
  {
   "cell_type": "code",
   "execution_count": 5,
   "metadata": {},
   "outputs": [
    {
     "name": "stdout",
     "output_type": "stream",
     "text": [
      "[[0, 0, 0, 0, 0], [1, 1, 1, 1, 1], [2, 2, 2, 2, 2], [3, 3, 3, 3, 3]]\n",
      " 0  0  0  0  0 \n",
      " 1  1  1  1  1 \n",
      " 2  2  2  2  2 \n",
      " 3  3  3  3  3 \n"
     ]
    }
   ],
   "source": [
    "# 2차원 리스트\n",
    "# data = [0 for i in range(5)] # 1차원 리스트\n",
    "# data = [[0] * 열 for i in range(행)] # 2차원 리스트\n",
    "data = [[i] * 5 for i in range(4)]\n",
    "print(data)\n",
    "\n",
    "for i in range(4):\n",
    "    for j in range(5):\n",
    "        print('{0:2d}'.format(data[i][j]), end = ' ')\n",
    "    print()"
   ]
  },
  {
   "cell_type": "code",
   "execution_count": 6,
   "metadata": {},
   "outputs": [
    {
     "name": "stdout",
     "output_type": "stream",
     "text": [
      " 1  2  3  4  5 \n",
      "10  9  8  7  6 \n",
      "11 12 13 14 15 \n",
      "20 19 18 17 16 \n"
     ]
    }
   ],
   "source": [
    "data = [[0] * 5 for i in range(4)]\n",
    "count = 0 # 1에서 20까지 1씩 증가하는 변수\n",
    "start = 0 # 리스트의 i번쨰 행에 숫자가 채워지기 시작하는 열(j)\n",
    "end = 4 # 리스트의 i번째 행에 숫자가 채워지는 마지막 열(j)\n",
    "sw = 1 # start부터 end까지 증가치(1 => -1 => 1 => -1 => ...)\n",
    "\n",
    "for i in range(4):\n",
    "    # for문에서 증가할때는 최종치 -1까지 증가하므로 4까지 증가시키려면 최종치가 5(4+1)이여야 하고\n",
    "    # for문에서 감소할떄는 최종치 +1까지 감소하므로 0까지 감소시키려면 최종치가 -1(0-1)이여야 한다\n",
    "    # 이를 고려하여 최종치를 end + sw 라고 작성하였다\n",
    "    for j in range(start, end + sw, sw):\n",
    "        count += 1\n",
    "        data[i][j] = count\n",
    "        # 짝수행은 0번째 열부터 4번째 열 방향으로 숫자를 채워야 하고\n",
    "        # 홀수행은 4번째 열부터 0번쨰 열 방향으로 숫자를 채워야하기 때문에\n",
    "        # 한 행에 숫자를 다 체우고 난 후 start와 end에 저장된 값을 교환해야 한다\n",
    "        start, end = end, start\n",
    "        # 행(i)이 짝수일 경우 start부터 end + sw까지 1씩 증가 해야 하고\n",
    "        # 행(i)이 홀수일 경우 start부터 end + sw까지 1씩 감소해야 하므로\n",
    "        # 한 행에 숫자를 채우고 난 후 증가치(sw)의 부호를 변경해야 한다\n",
    "        sw *= -1\n",
    "        \n",
    "for i in range(4):\n",
    "    for j in range(5):\n",
    "        print('{0:2d}'.format(data[i][j]), end = ' ')\n",
    "    print()"
   ]
  },
  {
   "cell_type": "code",
   "execution_count": 10,
   "metadata": {},
   "outputs": [
    {
     "name": "stdout",
     "output_type": "stream",
     "text": [
      "행, 열 : 7 4\n",
      "7행 4열에 지그재그로 채우기\n",
      " 1  2  3  4 \n",
      " 8  7  6  5 \n",
      " 9 10 11 12 \n",
      "16 15 14 13 \n",
      "17 18 19 20 \n",
      "24 23 22 21 \n",
      "25 26 27 28 \n"
     ]
    }
   ],
   "source": [
    "n, m = map(int,input('행, 열 : ').split())\n",
    "print('{}행 {}열에 지그재그로 채우기'.format(n,m))\n",
    "\n",
    "data = [[0] * m for i in range(n)]\n",
    "count = 0\n",
    "start = 0\n",
    "end = m - 1\n",
    "sw = 1\n",
    "\n",
    "for i in range(n):\n",
    "    for j in range(start, end + sw, sw):\n",
    "        count += 1\n",
    "        data[i][j] = count\n",
    "    start, end = end, start\n",
    "    sw *= -1\n",
    "    \n",
    "for i in range(n):\n",
    "    for j in range(m):\n",
    "        print('{0:2d} '.format(data[i][j]), end = '')\n",
    "    print()"
   ]
  }
 ],
 "metadata": {
  "kernelspec": {
   "display_name": "Python 3",
   "language": "python",
   "name": "python3"
  },
  "language_info": {
   "codemirror_mode": {
    "name": "ipython",
    "version": 3
   },
   "file_extension": ".py",
   "mimetype": "text/x-python",
   "name": "python",
   "nbconvert_exporter": "python",
   "pygments_lexer": "ipython3",
   "version": "3.7.7"
  }
 },
 "nbformat": 4,
 "nbformat_minor": 4
}
