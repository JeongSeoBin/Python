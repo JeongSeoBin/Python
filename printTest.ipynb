{
 "cells": [
  {
   "cell_type": "markdown",
   "metadata": {},
   "source": [
    "# 주석\n",
    "'#'으로 시작하는 문장은 번역기가 번역하지 않습니다\n",
    "작은 따옴표 3개 사이에 코드를 쓰면 여러 줄(범위)주석이 된다"
   ]
  },
  {
   "cell_type": "markdown",
   "metadata": {},
   "source": [
    "# print() 함수\n",
    "print()함수는 인수로 지정한 데이터를 출력하고 줄을 바꾼다"
   ]
  },
  {
   "cell_type": "code",
   "execution_count": 1,
   "metadata": {},
   "outputs": [
    {
     "name": "stdout",
     "output_type": "stream",
     "text": [
      "hello python\n"
     ]
    }
   ],
   "source": [
    "print(\"hello python\")"
   ]
  },
  {
   "cell_type": "markdown",
   "metadata": {},
   "source": [
    "# ' ' or \" \" 출력하기"
   ]
  },
  {
   "cell_type": "code",
   "execution_count": 2,
   "metadata": {},
   "outputs": [
    {
     "name": "stdout",
     "output_type": "stream",
     "text": [
      "제 2외국어를 배운 호랑이가 '야옹' 했습니다\n",
      "제 2외국어를 배운 고양이가 \"어흥\" 했습니다\n",
      "제 2외국어를 배운 호랑이가 \"야옹\" 했습니다\n",
      "제 2외국어를 배운 고양이가 '어흥' 했습니다\n"
     ]
    }
   ],
   "source": [
    "print(\"제 2외국어를 배운 호랑이가 '야옹' 했습니다\")\n",
    "print('제 2외국어를 배운 고양이가 \"어흥\" 했습니다')\n",
    "print(\"제 2외국어를 배운 호랑이가 \\\"야옹\\\" 했습니다\")\n",
    "print('제 2외국어를 배운 고양이가 \\'어흥\\' 했습니다')"
   ]
  },
  {
   "cell_type": "markdown",
   "metadata": {},
   "source": [
    "# '*' 이용하여 반복출력\n",
    "print() 함수로 문자열 출력시 '*'연산자를 사용하면 지정된 숫자만큼 반복된다"
   ]
  },
  {
   "cell_type": "code",
   "execution_count": 3,
   "metadata": {},
   "outputs": [
    {
     "name": "stdout",
     "output_type": "stream",
     "text": [
      "===========================================================================\n"
     ]
    }
   ],
   "source": [
    "print('=' * 75)"
   ]
  },
  {
   "cell_type": "markdown",
   "metadata": {},
   "source": [
    "# 출력 데이터 연결\n",
    "print() 함수로 2개 이상의 데이터를 출력하려면 ','나 '+'로 구분해서 출력한다\n",
    "','로 구분하면 데이터와 데이터사이에 공백 한 칸이 생긴다\n",
    "'+'로 구분하면 데이터와 데이터가 연결되서 출력된다"
   ]
  },
  {
   "cell_type": "code",
   "execution_count": 4,
   "metadata": {},
   "outputs": [
    {
     "name": "stdout",
     "output_type": "stream",
     "text": [
      "hello python\n",
      "hellopython\n"
     ]
    }
   ],
   "source": [
    "print('hello','python')\n",
    "print('hello'+'python')"
   ]
  },
  {
   "cell_type": "markdown",
   "metadata": {},
   "source": [
    "# end option\n",
    "print() 함수의 end option을 이용하면 print()함수가 실행된 후 출력할 내용을 지정할 수 있다\n",
    "\n",
    "\\n(줄바꿈)이 end 옵션의 기본 값이다\n",
    "즉 end = '\\n'이 실행되어 print()함수를 실행한 후 '\\n'을 실행하여 줄을 바꾼다"
   ]
  },
  {
   "cell_type": "code",
   "execution_count": 6,
   "metadata": {},
   "outputs": [
    {
     "name": "stdout",
     "output_type": "stream",
     "text": [
      "안녕 파이썬\n",
      "hellopython\n"
     ]
    }
   ],
   "source": [
    "print('안녕 파이썬')\n",
    "print('hello', end = '')#줄을 바꾸지 않는다\n",
    "print('python')"
   ]
  },
  {
   "cell_type": "markdown",
   "metadata": {},
   "source": [
    "# 출력서식 지정해서 출력하기\n",
    "print('출력서식' % 출력할 데이터)\n",
    "\n",
    "출력서식의 형식 -> [-][0][n][.m]서식문자\n",
    "                   - : 전체 자리수가 지정된 경우 데이터를 왼쪽으로 맞춰 출력한다\n",
    "                   0 : 전체 자리수가 지정된 경우 왼쪽의 남는 자리에 '0'을 채워 출력한다(단, 숫자만 사용할 수 있다)\n",
    "                   n : 전체 자리수\n",
    "                  .m : 소수점 아래 자리수, 잘리는 자리는 반올림해서 표기한다\n",
    "                   서식문자 : %d(정수)%f(실수)%s(문자열)\n",
    "                   \n",
    "출력할 데이터가 2개 이상인 경우 ()로 묶어 준다"
   ]
  },
  {
   "cell_type": "code",
   "execution_count": 16,
   "metadata": {},
   "outputs": [
    {
     "name": "stdout",
     "output_type": "stream",
     "text": [
      "    1\n",
      "1    \n",
      "00001\n",
      "10000\n",
      "===========================================================================\n",
      "  abc\n",
      "abc  \n",
      "  abc\n",
      "abcde\n",
      "===========================================================================\n",
      "123.45\n",
      "123.46\n",
      "123.40\n",
      "0060\n",
      "60  \n",
      "===========================================================================\n",
      "5 + 3 = 8\n",
      "5 - 3 = 2\n",
      "5 * 3 = 15\n"
     ]
    }
   ],
   "source": [
    "print('%5d' % 1)# 남는 자리는 공백으로 체워 진다\n",
    "print('%-5d' % 1)\n",
    "print('%05d' % 1)\n",
    "print('%5d' % 10000)\n",
    "print('=' * 75)\n",
    "\n",
    "print('%5s' % 'abc')\n",
    "print('%-5s' % 'abc')\n",
    "print('%05s' % 'abc')# 문자열 앞의 0은 무시한다\n",
    "print('%5s' % 'abcde')\n",
    "print('=' * 75)\n",
    "\n",
    "print('%6.2f' % 123.45)\n",
    "print('%6.2f' % 123.456)# 소수점 아래 자리수가 부족하면 잘리는 자리에서 반올림해서 표기\n",
    "print('%6.2f' % 123.4)# 소수점 아래 자리수가 남으면 남는 자리에 0이 채워 진다\n",
    "print('%04.0f' % 60.4)\n",
    "print('%-4.0f' % 59.5)\n",
    "print('=' * 75)\n",
    "\n",
    "print('%d + %d = %d' % (5, 3, 5 + 3))\n",
    "print('%d - %d = %d' % (5, 3, 5 - 3))\n",
    "print('%d * %d = %d' % (5, 3, 5 * 3))"
   ]
  },
  {
   "cell_type": "markdown",
   "metadata": {},
   "source": [
    "# 서식문자 & 산술연산"
   ]
  },
  {
   "cell_type": "code",
   "execution_count": 26,
   "metadata": {},
   "outputs": [
    {
     "name": "stdout",
     "output_type": "stream",
     "text": [
      "1.6666666666666667\n",
      "5 / 3 = 1\n",
      "5 / 3 = 1.666667\n",
      "5 // 3 = 1\n",
      "5 // 3 = 1.000000\n",
      "5 % 3 = 2\n",
      "2의 10승 = 1024\n"
     ]
    }
   ],
   "source": [
    "# 나눗셈\n",
    "# 파이썬은 정수와 정수의 나눗셈 결과는 실수로 계산되지만 %d로 출력하면 정수만 출력된다\n",
    "print(5/3)\n",
    "print('%d / %d = %d' % (5, 3, 5 / 3))\n",
    "print('%d / %d = %f' % (5, 3, 5 / 3))\n",
    "\n",
    "# 몫\n",
    "print('%d // %d = %d' % (5, 3, 5 // 3))\n",
    "print('%d // %d = %f' % (5, 3, 5 // 3))\n",
    "\n",
    "# 나머지\n",
    "# 서식을 지정해 출력할 때 '%' 문자 자체를 출력하려면 '%'를 연속해서 2개를 적어야 '%'가 출력된다.\n",
    "print('%d %% %d = %d' % (5, 3, 5 % 3))\n",
    "\n",
    "# 거듭제곱\n",
    "print('%d의 %d승 = %d' % (2, 10, 2 ** 10))"
   ]
  },
  {
   "cell_type": "markdown",
   "metadata": {},
   "source": [
    "# format() 함수와 인덱스 사용해서 출력하기\n",
    "print('{인덱스}'.format(데이터))\n",
    "인덱스는 0부터 시작"
   ]
  },
  {
   "cell_type": "code",
   "execution_count": 28,
   "metadata": {},
   "outputs": [
    {
     "name": "stdout",
     "output_type": "stream",
     "text": [
      "홍길동 바보\n",
      "홍길동 바보\n",
      "바보 홍길동\n",
      "홍길동 바보 홍길동\n",
      "홍길동 바보 홍길동\n"
     ]
    }
   ],
   "source": [
    "print('{} {}'.format('홍길동','바보'))\n",
    "print('{0} {1}'.format('홍길동','바보'))\n",
    "print('{1} {0}'.format('홍길동','바보'))\n",
    "print('{0} {1} {0}'.format('홍길동','바보'))\n",
    "print('{0} {1} {0}'.format('홍길동','바보','멍청이'))\n",
    "# print('{0} {1} {2}'.format('홍길동','바보'))# 에러"
   ]
  },
  {
   "cell_type": "markdown",
   "metadata": {},
   "source": [
    "# 문자열 정렬\n",
    "print('{인덱스:정렬 칸수s}'.format('출력 데이터'))\n",
    "< : 왼쪽 정렬, 생략시 기본값\n",
    "> : 오른쪽 정렬\n",
    "^ : 가운데 정렬\n",
    "        \n",
    "'_'로 공백채우기\n",
    "print('{인덱스:_^10s}.format('데이터')"
   ]
  },
  {
   "cell_type": "code",
   "execution_count": 33,
   "metadata": {},
   "outputs": [
    {
     "name": "stdout",
     "output_type": "stream",
     "text": [
      "hi        \n",
      "hi        \n",
      "        hi\n",
      "    hi    \n",
      "hi________왼쪽정렬\n",
      "________hi오른쪽정렬\n",
      "____hi____가운데정렬\n"
     ]
    }
   ],
   "source": [
    "print('{0:10s}'.format('hi'))\n",
    "print('{0:<10s}'.format('hi'))\n",
    "print('{0:>10s}'.format('hi'))\n",
    "print('{0:^10s}'.format('hi'))\n",
    "\n",
    "print('{0:_<10s}왼쪽정렬'.format('hi'))\n",
    "print('{0:_>10s}오른쪽정렬'.format('hi'))\n",
    "print('{0:_^10s}가운데정렬'.format('hi'))"
   ]
  },
  {
   "cell_type": "markdown",
   "metadata": {},
   "source": [
    "# f접두어"
   ]
  },
  {
   "cell_type": "code",
   "execution_count": 1,
   "metadata": {},
   "outputs": [
    {
     "name": "stdout",
     "output_type": "stream",
     "text": [
      "jeong seo bin님은 23살 입니다\n"
     ]
    }
   ],
   "source": [
    "name = \"jeong seo bin\"\n",
    "age = 23\n",
    "print(f'{name}님은 {age}살 입니다')"
   ]
  }
 ],
 "metadata": {
  "kernelspec": {
   "display_name": "Python 3",
   "language": "python",
   "name": "python3"
  },
  "language_info": {
   "codemirror_mode": {
    "name": "ipython",
    "version": 3
   },
   "file_extension": ".py",
   "mimetype": "text/x-python",
   "name": "python",
   "nbconvert_exporter": "python",
   "pygments_lexer": "ipython3",
   "version": "3.7.7"
  }
 },
 "nbformat": 4,
 "nbformat_minor": 4
}
