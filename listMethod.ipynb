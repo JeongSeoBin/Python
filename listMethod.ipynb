{
 "cells": [
  {
   "cell_type": "markdown",
   "metadata": {},
   "source": [
    "추가 : append() insert() extend()\n",
    "삭제 : remove() pop()\n",
    "조작 : sort() reverse()\n",
    "조회 : index() count() len()"
   ]
  },
  {
   "cell_type": "markdown",
   "metadata": {},
   "source": [
    "# append(data) & insert(index, data)\n",
    "리스트의 맨 뒤에 데이터 추가 & 리스트의 index 위치에 데이터 추가"
   ]
  },
  {
   "cell_type": "code",
   "execution_count": 5,
   "metadata": {},
   "outputs": [
    {
     "name": "stdout",
     "output_type": "stream",
     "text": [
      "[1, 2, 3, 4]\n",
      "=================================================================\n",
      "[1, 5, 2, 3, 4]\n",
      "=================================================================\n",
      "[1, 5, 2, 3, 4, 6]\n",
      "=================================================================\n",
      "[1, 5, 2, 3, 4, 7, 6]\n"
     ]
    }
   ],
   "source": [
    "a = [1,2,3]\n",
    "a.append(4)\n",
    "print(a)\n",
    "print('=' * 65)\n",
    "\n",
    "a.insert(1,5)\n",
    "print(a)\n",
    "print('=' * 65)\n",
    "\n",
    "# insert()와 len()으로 append()구현하기\n",
    "a.insert(len(a),6)\n",
    "print(a)\n",
    "print('=' * 65)\n",
    "\n",
    "a.insert(-1,7)\n",
    "print(a)"
   ]
  },
  {
   "cell_type": "markdown",
   "metadata": {},
   "source": [
    "# extend(list)\n",
    "리스트를 확장한다 -> 리스트에 리스트를 더한다"
   ]
  },
  {
   "cell_type": "code",
   "execution_count": 38,
   "metadata": {},
   "outputs": [
    {
     "name": "stdout",
     "output_type": "stream",
     "text": [
      "[1, 2, 3, 4, 5]\n",
      "[1, 2, 3, 4, 5]\n",
      "[1, 2, 3, 4, 5]\n"
     ]
    }
   ],
   "source": [
    "a = [1,2,3]\n",
    "a.extend([4,5])\n",
    "print(a)\n",
    "\n",
    "b = [1,2,3]\n",
    "b = b + [4,5]\n",
    "print(b)\n",
    "\n",
    "c = [1,2,3]\n",
    "c += [4,5]\n",
    "print(c)"
   ]
  },
  {
   "cell_type": "markdown",
   "metadata": {},
   "source": [
    "# remove(data) & pop(index)\n",
    "remove(data) : 해당 데이터의 첫 번째 데이터만 삭제\n",
    "pop(index) : 해당 위치에 저장된 데이터를 얻어 온 후 삭제\n",
    "             데이터의 위치를 지정하지 않으면 마지막 데이터를 의미"
   ]
  },
  {
   "cell_type": "code",
   "execution_count": 35,
   "metadata": {},
   "outputs": [
    {
     "name": "stdout",
     "output_type": "stream",
     "text": [
      "None\n",
      "[1, 2, 4, 5, 3]\n",
      "3\n",
      "[1, 2, 4, 5]\n",
      "2\n",
      "[1, 4, 5]\n"
     ]
    }
   ],
   "source": [
    "a = [1,2,3,4,5,3]\n",
    "\n",
    "# remove(data)\n",
    "b = a.remove(3)\n",
    "print(b)\n",
    "print(a)\n",
    "\n",
    "# pop(index)\n",
    "b = a.pop()\n",
    "print(b)\n",
    "print(a)\n",
    "\n",
    "b = a.pop(1)\n",
    "print(b)\n",
    "print(a)"
   ]
  },
  {
   "cell_type": "markdown",
   "metadata": {},
   "source": [
    "# index()\n",
    "리스트에 해당 데이터가 있을 경우 해당 데이터의 첫 번째 위치를 얻어 온다\n",
    "해당 데이터가 리스트에 없을 경우 에러 발생"
   ]
  },
  {
   "cell_type": "code",
   "execution_count": 17,
   "metadata": {},
   "outputs": [
    {
     "name": "stdout",
     "output_type": "stream",
     "text": [
      "2\n"
     ]
    }
   ],
   "source": [
    "a = [1,2,3,4,5,3]\n",
    "print(a.index(3))\n",
    "\n",
    "# print(a.index(6)) 에러"
   ]
  },
  {
   "cell_type": "markdown",
   "metadata": {},
   "source": [
    "# count()\n",
    "리스트에 저장된 특정 데이터의 개수를 얻어 온다"
   ]
  },
  {
   "cell_type": "code",
   "execution_count": 19,
   "metadata": {},
   "outputs": [
    {
     "name": "stdout",
     "output_type": "stream",
     "text": [
      "2\n",
      "0\n"
     ]
    }
   ],
   "source": [
    "print(a.count(3))\n",
    "print(a.count(6))"
   ]
  },
  {
   "cell_type": "markdown",
   "metadata": {},
   "source": [
    "# sort() & reverse()\n",
    "sort() : 리스트에 저장된 데이터들을 오름차순으로 정렬\n",
    "sort(reverse = True) : 리스트에 저장된 데이터들을 내림차순으로 정렬\n",
    "reverse() : 리스트에 저장된 데이터들을 뒤집는다"
   ]
  },
  {
   "cell_type": "code",
   "execution_count": 14,
   "metadata": {},
   "outputs": [
    {
     "name": "stdout",
     "output_type": "stream",
     "text": [
      "[1, 2, 3, 4]\n",
      "['a', 'b', 'c', 'd']\n",
      "['일지매', '임꺽정', '장길산', '홍길동']\n",
      "[2, 3, 1, 4]\n",
      "[4, 3, 2, 1]\n",
      "[1, 2, 3, 4]\n",
      "[4, 3, 2, 1]\n"
     ]
    }
   ],
   "source": [
    "# 오름차순\n",
    "a.sort()\n",
    "print(a)\n",
    "\n",
    "b = ['c','a','d','b']\n",
    "b.sort()\n",
    "print(b)\n",
    "\n",
    "c = ['홍길동','임꺽정','장길산','일지매']\n",
    "c.sort()\n",
    "print(c)\n",
    "\n",
    "# 뒤집기\n",
    "a = [4,1,3,2]\n",
    "a.reverse()\n",
    "print(a)\n",
    "\n",
    "# 내림차순\n",
    "a.sort(reverse = True)\n",
    "print(a)\n",
    "\n",
    "a = [4,1,3,2]\n",
    "a.sort()\n",
    "print(a)\n",
    "a.reverse()\n",
    "print(a)"
   ]
  }
 ],
 "metadata": {
  "kernelspec": {
   "display_name": "Python 3",
   "language": "python",
   "name": "python3"
  },
  "language_info": {
   "codemirror_mode": {
    "name": "ipython",
    "version": 3
   },
   "file_extension": ".py",
   "mimetype": "text/x-python",
   "name": "python",
   "nbconvert_exporter": "python",
   "pygments_lexer": "ipython3",
   "version": "3.7.7"
  }
 },
 "nbformat": 4,
 "nbformat_minor": 4
}
