{
 "cells": [
  {
   "cell_type": "code",
   "execution_count": 22,
   "metadata": {},
   "outputs": [],
   "source": [
    "from random import randrange"
   ]
  },
  {
   "cell_type": "code",
   "execution_count": 15,
   "metadata": {},
   "outputs": [],
   "source": [
    "def cardPrint():\n",
    "    for i in range(52):\n",
    "        print('{0:s}{1:2s}'.format(symbol[cards[i] // 13], number[cards[i] % 13]), end = ' ')\n",
    "        if (i+1) % 13 == 0:\n",
    "            print()         "
   ]
  },
  {
   "cell_type": "code",
   "execution_count": 2,
   "metadata": {},
   "outputs": [
    {
     "name": "stdout",
     "output_type": "stream",
     "text": [
      "[0, 1, 2, 3, 4, 5, 6, 7, 8, 9, 10, 11, 12, 13, 14, 15, 16, 17, 18, 19, 20, 21, 22, 23, 24, 25, 26, 27, 28, 29, 30, 31, 32, 33, 34, 35, 36, 37, 38, 39, 40, 41, 42, 43, 44, 45, 46, 47, 48, 49, 50, 51]\n"
     ]
    }
   ],
   "source": [
    "# 카드출력에 사용할 숫자와 무늬를 기억하는 리스트를 만든다\n",
    "number = ['A', '2', '3', '4', '5', '6', '7', '8', '9', '10', 'J', 'Q', 'K']\n",
    "symbol = ['♠', '◇', '♥', '♧']\n",
    "\n",
    "# 반복문을 이용해서 0 ~ 51 이 저장된 리스트를 만든다\n",
    "cards = [i for i in range(52)]\n",
    "print(cards)"
   ]
  },
  {
   "cell_type": "code",
   "execution_count": 19,
   "metadata": {},
   "outputs": [
    {
     "name": "stdout",
     "output_type": "stream",
     "text": [
      "=========================== 섞기 전 =============================\n",
      "♠A  ♠2  ♠3  ♠4  ♠5  ♠6  ♠7  ♠8  ♠9  ♠10 ♠J  ♠Q  ♠K  \n",
      "◇A  ◇2  ◇3  ◇4  ◇5  ◇6  ◇7  ◇8  ◇9  ◇10 ◇J  ◇Q  ◇K  \n",
      "♥A  ♥2  ♥3  ♥4  ♥5  ♥6  ♥7  ♥8  ♥9  ♥10 ♥J  ♥Q  ♥K  \n",
      "♧A  ♧2  ♧3  ♧4  ♧5  ♧6  ♧7  ♧8  ♧9  ♧10 ♧J  ♧Q  ♧K  \n"
     ]
    }
   ],
   "source": [
    "# 카드를 1줄에 13개씩 출력한다\n",
    "'''\n",
    "for i in range(52):\n",
    "    # print('%2s' % number[i % 13], end = \" \") # 숫자만\n",
    "    # print('{0:2s}'.format(number[cards[i] % 13]), end = \" \") # 숫자만 # 0 ~ 12를 4번 반복\n",
    "    # print('{0:s}'.format(symbol[cards[i] // 13]), end = \" \") # 무늬만 # 0, 1, 2, 3 각각을 13번씩 반복\n",
    "    print('{0:2s}{1:2s}'.format(symbol[cards[i] // 13], number[cards[i] % 13]), end = \" \")\n",
    "    if (i+1) % 13 == 0:\n",
    "        print()\n",
    "'''\n",
    "print(\"=========================== 섞기 전 =============================\")\n",
    "cardPrint()"
   ]
  },
  {
   "cell_type": "code",
   "execution_count": 23,
   "metadata": {},
   "outputs": [],
   "source": [
    "# 카드를 섞는다\n",
    "for i in range(1000000):\n",
    "    r = randrange(1, 52)\n",
    "    cards[0], cards[r] = cards[r], cards[0]"
   ]
  },
  {
   "cell_type": "code",
   "execution_count": 25,
   "metadata": {},
   "outputs": [
    {
     "name": "stdout",
     "output_type": "stream",
     "text": [
      "=========================== 섞은 후 =============================\n",
      "♧5  ♥4  ♥K  ♠A  ◇J  ♧9  ♧2  ◇3  ♠J  ♥2  ♠9  ♧Q  ♠8  \n",
      "♧K  ♠7  ♥A  ♠6  ◇Q  ♧7  ♥8  ♥5  ♧J  ◇2  ♥Q  ♧6  ◇A  \n",
      "♧4  ♥10 ♧10 ◇10 ♠3  ♥3  ◇8  ◇K  ♠2  ♥6  ◇5  ◇4  ♥J  \n",
      "♧8  ◇6  ◇9  ♠10 ♠Q  ◇7  ♠K  ♠5  ♧A  ♠4  ♥9  ♧3  ♥7  \n"
     ]
    }
   ],
   "source": [
    "print(\"=========================== 섞은 후 =============================\")\n",
    "cardPrint()"
   ]
  }
 ],
 "metadata": {
  "kernelspec": {
   "display_name": "Python 3",
   "language": "python",
   "name": "python3"
  },
  "language_info": {
   "codemirror_mode": {
    "name": "ipython",
    "version": 3
   },
   "file_extension": ".py",
   "mimetype": "text/x-python",
   "name": "python",
   "nbconvert_exporter": "python",
   "pygments_lexer": "ipython3",
   "version": "3.7.7"
  }
 },
 "nbformat": 4,
 "nbformat_minor": 4
}
