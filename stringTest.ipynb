{
 "cells": [
  {
   "cell_type": "markdown",
   "metadata": {},
   "source": [
    "# string\n",
    "큰 따옴표나 작은 따옴표로 묶어 주면 문자열 데이터로 취급한다\n",
    "큰 따옴표 3개 사용하면 여러줄 문자열을 만들 수 있다"
   ]
  },
  {
   "cell_type": "code",
   "execution_count": 1,
   "metadata": {},
   "outputs": [
    {
     "name": "stdout",
     "output_type": "stream",
     "text": [
      "hello world\n",
      "개울가에\n",
      "올챙이 한 마리\n",
      "꼬물꼬물 헤엄치다\n",
      "\n",
      "앞다리가 쏘옥\n",
      "뒷다리가 쏘옥\n",
      "팔딱팔딱 개구리 됐네\n",
      "\n"
     ]
    }
   ],
   "source": [
    "memo = 'hello world'\n",
    "print(memo)\n",
    "\n",
    "memo = \"\"\"개울가에\n",
    "올챙이 한 마리\n",
    "꼬물꼬물 헤엄치다\n",
    "\"\"\"\n",
    "print(memo)\n",
    "memo = '''앞다리가 쏘옥\n",
    "뒷다리가 쏘옥\n",
    "팔딱팔딱 개구리 됐네\n",
    "'''\n",
    "print(memo)"
   ]
  },
  {
   "cell_type": "markdown",
   "metadata": {},
   "source": [
    "# 인덱싱 & 슬라이싱\n",
    "인덱싱은 문자열의 특정 위치의 문자 1개를 얻어 오는 것\n",
    "문자열 변수[인덱스]\n",
    "\n",
    "슬라이싱은 범위를 지정해서 여러 문자를 잘라내는 것\n",
    "문자열 변수[시작위치:끝위치] -> '시작위치 ~ 끝위치 - 1'까지의 문자열을 얻어 온다\n",
    "                                 시작위치를 생략하면 처음부터를 의미하고 끝위치를 생략하면 마지막까지를 의미한다\n",
    "\n",
    "인덱싱이나 슬라이싱을 이용해서 문자열 일부를 수정할 수 없다(자른거 수정한다고 자르고 남은게 변경되지는 않는다)"
   ]
  },
  {
   "cell_type": "code",
   "execution_count": 3,
   "metadata": {},
   "outputs": [
    {
     "name": "stdout",
     "output_type": "stream",
     "text": [
      "W\n",
      "c\n",
      "!\n",
      "are\n",
      "champions\n",
      "We are the champions\n",
      "My friend!\n",
      "pithon\n",
      "i\n",
      "i\n",
      "python\n"
     ]
    }
   ],
   "source": [
    "string = 'We are the champions, My friend!'\n",
    "print(string[0])\n",
    "print(string[11])\n",
    "print(string[-1])\n",
    "\n",
    "print(string[3:6])\n",
    "print(string[11:20])\n",
    "\n",
    "print(string[:20])\n",
    "print(string[22:])\n",
    "\n",
    "string = 'pithon'\n",
    "print(string)\n",
    "print(string[1])\n",
    "# string[1] = 'y' 에러\n",
    "print(string[1:2])\n",
    "# string[1:2] = 'y' 에러\n",
    "\n",
    "# 문자열 중 한 글자 수정하기\n",
    "string = string[0:1] + 'y' + string[2:]\n",
    "print(string)"
   ]
  }
 ],
 "metadata": {
  "kernelspec": {
   "display_name": "Python 3",
   "language": "python",
   "name": "python3"
  },
  "language_info": {
   "codemirror_mode": {
    "name": "ipython",
    "version": 3
   },
   "file_extension": ".py",
   "mimetype": "text/x-python",
   "name": "python",
   "nbconvert_exporter": "python",
   "pygments_lexer": "ipython3",
   "version": "3.7.7"
  }
 },
 "nbformat": 4,
 "nbformat_minor": 4
}
