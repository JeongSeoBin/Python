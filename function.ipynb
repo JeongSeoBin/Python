{
 "cells": [
  {
   "cell_type": "markdown",
   "metadata": {},
   "source": [
    "# 함수 구조\n",
    "def 함수이름([인수,..]): -> 인수는 함수가 처리할 데이터를 의미하며 필요없으면 생략가능\n",
    "  함수가 실행할 문장\n",
    "  ...\n",
    "  [return 함수 실행 결과] -> 함수의 실행 결과가 없으면 return 생략가능"
   ]
  },
  {
   "cell_type": "code",
   "execution_count": 5,
   "metadata": {},
   "outputs": [],
   "source": [
    "# 가장 일반적인 함수 모양\n",
    "# a,b 2개의 정수 값을 인수로 넘겨 받아 덧셈을 실행하고 실행된 결과를 리턴하는 함수\n",
    "def add(a,b):\n",
    "    print(\"add() 함수가 실행됩니다\")\n",
    "    print(\"a = {}, b = {}\".format(a,b))\n",
    "    c = a + b\n",
    "    print('{} + {} = {}'.format(a,b,c))\n",
    "    # return을 만나거나 함수가 종료되면 함수를 호출한 곳으로 돌아 간다\n",
    "    # return을 만나면 리턴 값을 가지고 돌아 간다\n",
    "    return c"
   ]
  },
  {
   "cell_type": "code",
   "execution_count": 8,
   "metadata": {},
   "outputs": [],
   "source": [
    "# 입력 값이 없는 함수, 처리할 데이터(인수)를 넘겨 받지 않는 함수\n",
    "def func1():\n",
    "    print('호출된 함수에서 출력 => func1() 함수가 실행됩니다')\n",
    "    return 'func1() 함수가 실행됩니다'"
   ]
  },
  {
   "cell_type": "code",
   "execution_count": 10,
   "metadata": {},
   "outputs": [],
   "source": [
    "# 결과 값이 없는 함수, return이 생략된 함수\n",
    "def func2(a,b):\n",
    "    print('호출된 함수에서 출력 => func2() 함수가 실행됩니다')\n",
    "    print('{} + {} = {}'.format(a,b,a+b))"
   ]
  },
  {
   "cell_type": "markdown",
   "metadata": {},
   "source": [
    "# 함수 실행\n",
    "실행하려는 함수의 이름을 적는다"
   ]
  },
  {
   "cell_type": "code",
   "execution_count": 6,
   "metadata": {},
   "outputs": [
    {
     "name": "stdout",
     "output_type": "stream",
     "text": [
      "add() 함수가 실행됩니다\n",
      "a = 5, b = 3\n",
      "5 + 3 = 8\n",
      "함수가 실행된 결과 : 8\n"
     ]
    }
   ],
   "source": [
    "print('함수가 실행된 결과 : {}'.format(add(5,3)))"
   ]
  },
  {
   "cell_type": "code",
   "execution_count": 9,
   "metadata": {},
   "outputs": [
    {
     "name": "stdout",
     "output_type": "stream",
     "text": [
      "호출된 함수에서 출력 => func1() 함수가 실행됩니다\n",
      "함수를 호출한 곳에서 출력 => func1() 함수가 실행됩니다\n"
     ]
    }
   ],
   "source": [
    "print('함수를 호출한 곳에서 출력 => {}'.format(func1()))"
   ]
  },
  {
   "cell_type": "code",
   "execution_count": 12,
   "metadata": {},
   "outputs": [
    {
     "name": "stdout",
     "output_type": "stream",
     "text": [
      "호출된 함수에서 출력 => func2() 함수가 실행됩니다\n",
      "5 + 3 = 8\n"
     ]
    }
   ],
   "source": [
    "func2(5,3)"
   ]
  },
  {
   "cell_type": "markdown",
   "metadata": {},
   "source": [
    "# 오버로딩\n",
    "파이썬은 오버로딩을 지원하지 않는다\n",
    "파이썬은 같은 이름을 가지는 함수를 만들면 맨 마지막에 정의한 함수만 유효하고 앞에 정의한 함수는 뒤에 정의한 함수로 덮어 쓰기된다"
   ]
  },
  {
   "cell_type": "code",
   "execution_count": 14,
   "metadata": {},
   "outputs": [
    {
     "name": "stdout",
     "output_type": "stream",
     "text": [
      "호출된 함수에서 출력 => func2() 함수가 실행됩니다\n",
      "1 + 2 + 3 = 6\n"
     ]
    }
   ],
   "source": [
    "def func2(a,b,c):\n",
    "    print('호출된 함수에서 출력 => func2() 함수가 실행됩니다')\n",
    "    print('{} + {} + {} = {}'.format(a,b,c,a+b+c))\n",
    "    \n",
    "# fuc(4,7) 에러\n",
    "func2(1,2,3)"
   ]
  },
  {
   "cell_type": "markdown",
   "metadata": {},
   "source": [
    "# 가변인수 함수\n",
    "오버로딩 효과를 내기 위해 가변 인자를 가지는 함수를 사용한다\n",
    "(가변 인자를 가지는 함수 = 인수의 개수가 가변적인 함수)\n",
    "가변인수는 *변수명 형태로 사용 \n",
    "변수명 앞에 '*'을 붙이면 가변 인수로 취급되고 넘어 오는 데이터를 튜플로 받는다"
   ]
  },
  {
   "cell_type": "code",
   "execution_count": 15,
   "metadata": {},
   "outputs": [],
   "source": [
    "def func3(*args):\n",
    "    print('func3() 함수가 실행됩니다')\n",
    "    print(type(args))\n",
    "    print(args)\n",
    "    print('func3() 함수로 넘어 온 인수의 개수 : {}'.format(len(args)))\n",
    "    \n",
    "    total = 0\n",
    "    for arg in args:\n",
    "        total += arg\n",
    "    return total"
   ]
  },
  {
   "cell_type": "code",
   "execution_count": 16,
   "metadata": {},
   "outputs": [
    {
     "name": "stdout",
     "output_type": "stream",
     "text": [
      "func3() 함수가 실행됩니다\n",
      "<class 'tuple'>\n",
      "(1, 2, 3, 4, 5, 6)\n",
      "func3() 함수로 넘어 온 인수의 개수 : 6\n",
      "result = 21\n"
     ]
    }
   ],
   "source": [
    "result = func3(1,2,3,4,5,6)\n",
    "print('result = {}'.format(result))"
   ]
  },
  {
   "cell_type": "markdown",
   "metadata": {},
   "source": [
    "# 디폴트 인수를 사용하는 함수\n",
    "변수명 = 디폴트 값(기본값)\n",
    "함수가 호출될 때 인수가 넘어 오면 넘어 온 값으로 함수를 실행하고 안수가 넘어 오지 않으면 지정된 디폴트 값으로 함수를 실행한다\n",
    "디폴트 인수를 부분적으로 사용할 수 없다 -> 모든 인수에 사용하거나 모든 안수에 사용하지 않아야 한다"
   ]
  },
  {
   "cell_type": "code",
   "execution_count": 17,
   "metadata": {},
   "outputs": [],
   "source": [
    "def func4(a = 5, b = 8):\n",
    "    print('func4() 힘수가 실행')\n",
    "    result = a-b\n",
    "    print('{} - {} = {}'.format(a,b,a-b))\n",
    "    return result"
   ]
  },
  {
   "cell_type": "code",
   "execution_count": 19,
   "metadata": {},
   "outputs": [
    {
     "name": "stdout",
     "output_type": "stream",
     "text": [
      "func4() 힘수가 실행\n",
      "101 - 10 = 91\n",
      "91\n",
      "func4() 힘수가 실행\n",
      "101 - 8 = 93\n",
      "93\n",
      "func4() 힘수가 실행\n",
      "5 - 8 = -3\n",
      "-3\n",
      "func4() 힘수가 실행\n",
      "999 - 1 = 998\n",
      "998\n",
      "func4() 힘수가 실행\n",
      "1 - 999 = -998\n",
      "-998\n"
     ]
    }
   ],
   "source": [
    "print(func4(101,10))\n",
    "print(func4(101))\n",
    "print(func4())\n",
    "print(func4(999,1))\n",
    "print(func4(b = 999,a = 1)) # 함수를 호출 할 때 인수로 전달되는 디폴트 값을 직접 지정할 수 있다"
   ]
  },
  {
   "cell_type": "markdown",
   "metadata": {},
   "source": [
    "# 넘겨 받은 인수를 딕셔너리 형태로 반환하는 함수\n",
    "인수는 '**변수명' 형태를 사용한다\n",
    "넘겨 받은 안수를 딕셔너리 형태로 변환해서 '**'을 붙여 준 변수에 저장한다"
   ]
  },
  {
   "cell_type": "code",
   "execution_count": 20,
   "metadata": {},
   "outputs": [],
   "source": [
    "def func5(**args):\n",
    "    print('func5() 함수 실행')\n",
    "    print(type(args))\n",
    "    print(args)\n",
    "    return args"
   ]
  },
  {
   "cell_type": "code",
   "execution_count": 21,
   "metadata": {},
   "outputs": [
    {
     "name": "stdout",
     "output_type": "stream",
     "text": [
      "func5() 함수 실행\n",
      "<class 'dict'>\n",
      "{'apple': 1000}\n",
      "func5() 함수 실행\n",
      "<class 'dict'>\n",
      "{'apple': 1000, 'banana': 2000}\n",
      "func5() 함수 실행\n",
      "<class 'dict'>\n",
      "{'apple': 1000, 'banana': 2000, 'melon': 10000}\n"
     ]
    },
    {
     "data": {
      "text/plain": [
       "{'apple': 1000, 'banana': 2000, 'melon': 10000}"
      ]
     },
     "execution_count": 21,
     "metadata": {},
     "output_type": "execute_result"
    }
   ],
   "source": [
    "# '**'이 앞에 붙은 인수는 key = value 형태로 인수를 전달해야 한다\n",
    "func5(apple = 1000)\n",
    "func5(apple = 1000, banana = 2000)\n",
    "func5(apple = 1000, banana = 2000, melon = 10000)"
   ]
  },
  {
   "cell_type": "markdown",
   "metadata": {},
   "source": [
    "# 여러 값 return하기\n",
    "return을 튜플로 하면 return 값이 2개 이상인 것같은 효과를 낸다"
   ]
  },
  {
   "cell_type": "code",
   "execution_count": 23,
   "metadata": {},
   "outputs": [],
   "source": [
    "def func6(a,b):\n",
    "    temp = a\n",
    "    a = b\n",
    "    b = temp\n",
    "    return a,b # return을 튜플로 한다"
   ]
  },
  {
   "cell_type": "code",
   "execution_count": 24,
   "metadata": {},
   "outputs": [
    {
     "name": "stdout",
     "output_type": "stream",
     "text": [
      "a = 3, b = 4\n",
      "a = 4, b = 3\n",
      "a = 3, b = 4\n"
     ]
    }
   ],
   "source": [
    "a = 3\n",
    "b = 4\n",
    "print('a = {}, b = {}'.format(a,b))\n",
    "a,b = b,a\n",
    "print('a = {}, b = {}'.format(a,b))\n",
    "a,b = func6(a,b)\n",
    "print('a = {}, b = {}'.format(a,b))\n"
   ]
  }
 ],
 "metadata": {
  "kernelspec": {
   "display_name": "Python 3",
   "language": "python",
   "name": "python3"
  },
  "language_info": {
   "codemirror_mode": {
    "name": "ipython",
    "version": 3
   },
   "file_extension": ".py",
   "mimetype": "text/x-python",
   "name": "python",
   "nbconvert_exporter": "python",
   "pygments_lexer": "ipython3",
   "version": "3.7.7"
  }
 },
 "nbformat": 4,
 "nbformat_minor": 4
}
