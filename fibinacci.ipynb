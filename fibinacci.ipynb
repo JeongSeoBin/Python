{
 "cells": [
  {
   "cell_type": "markdown",
   "metadata": {},
   "source": [
    "피보나치 수열\n",
    "피보나치 수열은의 n번째 항의 값은 n-2 번째 항과 n-1 번째 항의 값을 더한 값이다\n",
    "P = 1 + 1 + 2 + 3 + 5 + 8 + 13 + 21 + 34 + ..\n",
    "\n",
    "키보드로 피보나치 수열의 합계를 계산 항(n)을 입력받아 n번째 항까지 피보나치 수열의 합계를 계산하는 프로그램\n",
    "1번째 항과 2번째 항의 합계는 이미 계산되었다고 가정하고 시작한다"
   ]
  },
  {
   "cell_type": "code",
   "execution_count": 2,
   "metadata": {},
   "outputs": [
    {
     "name": "stdout",
     "output_type": "stream",
     "text": [
      "피보나치 수열의 합계를 구할 항을 입력하시오 : 8\n",
      "피보나치 수열의 8번째 항까지의 합은 54입니다\n"
     ]
    }
   ],
   "source": [
    "a = 1 # 피보나치 수열의 첫 번째 항(n-2)\n",
    "b = 1 # 피보나치 수열의 두 번째 항(n-1)\n",
    "total = 2 # 첫 번쨰 항과 두 번째 항의 합계를 미리 계산해둔 n번째 항까지의 합계를 계산할 변수\n",
    "\n",
    "# 합계를 계사할 항(n)을 입력받는다\n",
    "n = int(input('피보나치 수열의 합계를 구할 항을 입력하시오 : '))\n",
    "# 첫 번째항과 두 번째 항의 합계는 이미 계산이 되어 있다는 가정하에 시작하므로\n",
    "# 세 번째 항부터 n번쩨 항까지 반복하며 계산한다\n",
    "for i in range(3,n+1):\n",
    "    c = a + b # 피보나치 수열의 i번째 항을 계산한다\n",
    "    total += c # 피보나치 수열의 합계를 계산한다\n",
    "    \n",
    "    #다음 항(n+1항)의 값을 계산하기 위해 n-2번째 값을 기억하는 변수에 n-1번째 값을 기억하는 변수의 값을 넣고\n",
    "    # n-1번째 깂을 기억하는 변수에 n번째 값을 기억하는 변수의 값을 넣어 준다\n",
    "    a = b\n",
    "    b = c\n",
    "    \n",
    "print('피보나치 수열의 {}번째 항까지의 합은 {}입니다'.format(n,total))"
   ]
  }
 ],
 "metadata": {
  "kernelspec": {
   "display_name": "Python 3",
   "language": "python",
   "name": "python3"
  },
  "language_info": {
   "codemirror_mode": {
    "name": "ipython",
    "version": 3
   },
   "file_extension": ".py",
   "mimetype": "text/x-python",
   "name": "python",
   "nbconvert_exporter": "python",
   "pygments_lexer": "ipython3",
   "version": "3.7.6"
  }
 },
 "nbformat": 4,
 "nbformat_minor": 4
}
