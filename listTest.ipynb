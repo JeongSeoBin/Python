{
 "cells": [
  {
   "cell_type": "markdown",
   "metadata": {},
   "source": [
    "# List"
   ]
  },
  {
   "cell_type": "code",
   "execution_count": 8,
   "metadata": {},
   "outputs": [
    {
     "name": "stdout",
     "output_type": "stream",
     "text": [
      "[1, 3, 5, 7, 9]\n",
      "<class 'list'>\n",
      "[]\n",
      "<class 'list'>\n",
      "[]\n",
      "<class 'list'>\n"
     ]
    }
   ],
   "source": [
    "# 리스트 생성\n",
    "odd = [1,3,5,7,9]\n",
    "print(odd)\n",
    "print(type(odd))\n",
    "\n",
    "# 빈 리스트 생성\n",
    "a = []\n",
    "print(a)\n",
    "print(type(a))\n",
    "b = list() # 생성자 함수 이용\n",
    "print(b)\n",
    "print(type(b))\n",
    "\n",
    "c = [1, 2, 3] # 숫자 리스트\n",
    "d = ['Life', 'is', 'too', 'short'] # 문자열 리스트\n",
    "e = [1, 2, 'Life', 'is'] # 숫자와 문자열이 혼용된 리스트\n",
    "f = [1, 2, ['Life', 'is']] # 리스트 요소로 리스트를 갖는 리스트\n",
    "g = [['Life', 'is'], ['too', 'short']] # 2행 2열인 2차원 리스트"
   ]
  },
  {
   "cell_type": "markdown",
   "metadata": {},
   "source": [
    "# 리스트 인덱싱 & 슬라이싱\n",
    "리스트에서 인덱싱으로 뽑아 내면 상수가 리턴되고 슬라이싱으로 뽑아 내면 리스트가 리턴된다\n",
    "(인덱스는 리스트에 저장된 값을 얻어 오는 것이고 슬라이싱은 리스트를 자른거니까 잘린것도 리스트)"
   ]
  },
  {
   "cell_type": "code",
   "execution_count": 1,
   "metadata": {},
   "outputs": [
    {
     "name": "stdout",
     "output_type": "stream",
     "text": [
      "[10, 20, 30, 40, 50]\n",
      "10\n",
      "40\n",
      "50\n",
      "5\n",
      "=================================================================\n",
      "[10, 20, 30, ['a', 'b', 'c']]\n",
      "10\n",
      "['a', 'b', 'c']\n",
      "['a', 'b', 'c']\n",
      "a\n",
      "=================================================================\n",
      "[10, 20, ['a', 'b', ['Life', 'is']]]\n",
      "['a', 'b', ['Life', 'is']]\n",
      "['Life', 'is']\n",
      "is\n",
      "=================================================================\n",
      "[10, 20]\n",
      "[10, 20, 30]\n",
      "[30, 40, 50]\n",
      "=================================================================\n",
      "[3, ['a', 'b', 'c']]\n",
      "['a', 'b']\n",
      "1\n",
      "<class 'int'>\n",
      "[1]\n",
      "<class 'list'>\n",
      "=================================================================\n"
     ]
    }
   ],
   "source": [
    "# 리스트 인덱싱\n",
    "a = [10, 20, 30, 40, 50]\n",
    "print(a)\n",
    "print(a[0])\n",
    "print(a[0] + a[2])\n",
    "print(a[-1])\n",
    "print(len(a))\n",
    "print('=' * 65)\n",
    "\n",
    "b = [10, 20, 30, ['a', 'b', 'c']]\n",
    "print(b)\n",
    "print(b[0])\n",
    "print(b[3])\n",
    "print(b[-1])\n",
    "print(b[3][0])\n",
    "print('=' * 65)\n",
    "\n",
    "c = [10, 20, ['a','b',['Life','is']]]\n",
    "print(c)\n",
    "print(c[2])\n",
    "print(c[2][2])\n",
    "print(c[2][2][1])\n",
    "print('=' * 65)\n",
    "\n",
    "# 리스트 슬라이싱\n",
    "d = [10, 20, 30, 40, 50]\n",
    "print(d[0:2])\n",
    "print(d[:3])\n",
    "print(d[2:])\n",
    "print('=' * 65)\n",
    "\n",
    "e = [1,2,3,['a','b','c'],4]\n",
    "print(e[2:4])\n",
    "print(e[3][:2])\n",
    "\n",
    "# 리턴 타입\n",
    "print(e[0])\n",
    "print(type(e[0]))\n",
    "print(e[0:1])\n",
    "print(type(e[0:1]))\n",
    "print('=' * 65)"
   ]
  },
  {
   "cell_type": "markdown",
   "metadata": {},
   "source": [
    "# 리스트 연산자\n",
    "'+' : 리스트 연결\n",
    "'*' : 리스트 반복"
   ]
  },
  {
   "cell_type": "code",
   "execution_count": 9,
   "metadata": {},
   "outputs": [
    {
     "name": "stdout",
     "output_type": "stream",
     "text": [
      "[1, 2, 3, 4, 5, 6, 7]\n",
      "[1, 2, 3, 1, 2, 3, 1, 2, 3]\n",
      "=================================================================\n"
     ]
    }
   ],
   "source": [
    "f = [1,2,3]\n",
    "g = [4,5,6,7]\n",
    "print(f + g)\n",
    "print(f * 3)\n",
    "print('=' * 65)"
   ]
  },
  {
   "cell_type": "markdown",
   "metadata": {},
   "source": [
    "# 리스트 수정 & 삭제\n",
    "수정 : 슬라이싱은 리스트로 반환된다는 점 주의\n",
    "삭제 : 슬라이싱은 빈 리스트를 넣어 주면 삭제\n",
    "       인덱싱은 del 명령어로 삭제"
   ]
  },
  {
   "cell_type": "code",
   "execution_count": 12,
   "metadata": {},
   "outputs": [
    {
     "name": "stdout",
     "output_type": "stream",
     "text": [
      "[1, 2, 3]\n",
      "[1, 4, 3]\n",
      "=================================================================\n",
      "[1, ['a', 'b', 'c'], 3]\n",
      "[1, 'a', 'b', 'c', 3]\n",
      "[1, 'a', 'c', 3]\n",
      "[1, 'a', 3]\n"
     ]
    }
   ],
   "source": [
    "# 수정\n",
    "a = [1,2,3]\n",
    "print(a)\n",
    "a[1] = 4\n",
    "print(a)\n",
    "print('=' * 65)\n",
    "\n",
    "a[1] = ['a','b','c'] # a[1]의 값(상수)을 값 ['a','b','c']로 수정\n",
    "print(a) # [1, ['a','b','c'], 3]\n",
    "\n",
    "a[1:2] = ['a','b','c'] # [['a','b','c']] = ['a','b','c'] -> 리스트 값['a','b','c']를 리스트 값'a','b','c'로 수정\n",
    "print(a) # [1, 'a', 'b', 'c', 3]\n",
    "\n",
    "# 삭제\n",
    "a[2:3] = []\n",
    "print(a)\n",
    "del a[2]\n",
    "print(a)"
   ]
  }
 ],
 "metadata": {
  "kernelspec": {
   "display_name": "Python 3",
   "language": "python",
   "name": "python3"
  },
  "language_info": {
   "codemirror_mode": {
    "name": "ipython",
    "version": 3
   },
   "file_extension": ".py",
   "mimetype": "text/x-python",
   "name": "python",
   "nbconvert_exporter": "python",
   "pygments_lexer": "ipython3",
   "version": "3.7.7"
  }
 },
 "nbformat": 4,
 "nbformat_minor": 4
}
