{
 "cells": [
  {
   "cell_type": "code",
   "execution_count": 7,
   "metadata": {},
   "outputs": [
    {
     "name": "stdout",
     "output_type": "stream",
     "text": [
      "func1() 함수 내부에서 선언된 변수 var1 = 2\n",
      "func1()함수 외부에서 선언한 변수 var1 = 1\n",
      "unc2() 함수 내부에서 선언한 global 변수 var2 = 101\n",
      "func2() 함수 외부에서 선언한 변수 var2 = 101\n"
     ]
    }
   ],
   "source": [
    "# 함수 내부에서 선언된 변수\n",
    "# 함수 외부에서 선언된 변수와 함수 내부에서 선언된 변수는 이름이 같더라도 다른 변수로 취급된다\n",
    "# c언어의 call by value처럼 사용된다\n",
    "def func1(var1):\n",
    "    var1 += 1\n",
    "    print('func1() 함수 내부에서 선언된 변수 var1 = {}'.format(var1))\n",
    "    \n",
    "# globalVariable을 사용하면 함수 내부에서 함수 외부에서 선언된 변수의 값을 변경할 수 있다\n",
    "def func2():# globalVariable로 사용할 변수는 함수의 인수로 사용하면 안된다\n",
    "    # 함수 외부에서 선언된 var2를 함수 내부에서 사용한다는 의미이다\n",
    "    # 변수를 global로 선언하면 함수 외부에서 선언한 변수를 함수 내부에서 사용할 수 있으므로\n",
    "    # 함수 내부에서 global로 선언된 변수에 저장된 값을 변경하면 함수 외부에서 선언한 변수에 저장된 값도 동시에 변경된다\n",
    "    # c언어의 call by reference처럼 사용된다\n",
    "    # 부적용현상이 발생할 수 있으니 주의해서 사용해야 한다\n",
    "    global var2 # 함수 외부에서 선언된 변수를 함수 내부에서 변경이 가능하게 선언한다\n",
    "    var2 += 1\n",
    "    print('func2() 함수 내부에서 선언한 global 변수 var2 = {}'.format(var2))\n",
    "    \n",
    "var1 = 1\n",
    "func1(var1)\n",
    "print('func1()함수 외부에서 선언한 변수 var1 = {}'.format(var1))\n",
    "\n",
    "var2 = 100\n",
    "func2()\n",
    "print('func2() 함수 외부에서 선언한 변수 var2 = {}'.format(var2))"
   ]
  }
 ],
 "metadata": {
  "kernelspec": {
   "display_name": "Python 3",
   "language": "python",
   "name": "python3"
  },
  "language_info": {
   "codemirror_mode": {
    "name": "ipython",
    "version": 3
   },
   "file_extension": ".py",
   "mimetype": "text/x-python",
   "name": "python",
   "nbconvert_exporter": "python",
   "pygments_lexer": "ipython3",
   "version": "3.7.7"
  }
 },
 "nbformat": 4,
 "nbformat_minor": 4
}
