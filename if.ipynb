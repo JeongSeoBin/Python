{
 "cells": [
  {
   "cell_type": "markdown",
   "metadata": {},
   "source": [
    "# if 명령의 형식\n",
    "if 조건식:\n",
    "   조건식이 참일 경우 실행할 문장\n",
    "   .....\n",
    "else:\n",
    "   조건식이 거짓일 경우 실행할 문장\n",
    "   .....\n",
    "   \n",
    "조건을 만족하지 않을 때 아무런 일도 하지 않는다면 else이하를 생략할 수 있다"
   ]
  },
  {
   "cell_type": "markdown",
   "metadata": {},
   "source": [
    "# 관계(비교) 연산자\n",
    "연산 결과는 True 또는 False이다. 데이터를 비교한다\n",
    "> : 크다 초과\n",
    ">= : 크거나 같다 이상\n",
    "< : 작다 미만\n",
    "<= : 작거나 같다 이하\n",
    "== : 같다\n",
    "!= : 같지 않다\n",
    "\n",
    "# 논리 연산자 \n",
    "연산 결과는 무조건 True 또는 False이다. 논리값을 비교한다\n",
    "and : 논리곱, 두 조간의 결과가 모두 참일 경우에만 참, ~이고 ~이면서 ~중에서\n",
    "or : 논라합, 두 조건의 결과가 한 개 이상 참일 경우에 참, ~이거나 ~또는\n",
    "not : 논리부정"
   ]
  },
  {
   "cell_type": "code",
   "execution_count": 5,
   "metadata": {},
   "outputs": [
    {
     "name": "stdout",
     "output_type": "stream",
     "text": [
      "나이를 입력하시오 : 19\n",
      "성인입니다. 어서오세요\n"
     ]
    }
   ],
   "source": [
    "# 미성년자 판별\n",
    "age = int(input(\"나이를 입력하시오 : \"))\n",
    "if age >= 19:\n",
    "    print(\"성인입니다. 어서오세요\")\n",
    "    # 민약에 조간이 참일 경우 아무런 문장을 실행하지 않는다고 아무 문장도 입력하지 않으면 에러\n",
    "    # 에러가 발생되지 않게 하려면 pass라고 입력하면 된다\n",
    "    #pass\n",
    "else:\n",
    "    print(\"미성년자입니다\")"
   ]
  },
  {
   "cell_type": "code",
   "execution_count": 6,
   "metadata": {},
   "outputs": [
    {
     "name": "stdout",
     "output_type": "stream",
     "text": [
      "주민등록번호 13자리를 '-'없이 입력하시오: 9811012212912\n",
      "9811012212912\n",
      "2\n",
      "여자\n",
      "여자\n",
      "여자\n",
      "여자\n",
      "여지\n"
     ]
    }
   ],
   "source": [
    "# 주민등록번호로 성별판별\n",
    "jumin = input(\"주민등록번호 13자리를 '-'없이 입력하시오: \")\n",
    "print(jumin)\n",
    "print(jumin[6])\n",
    "\n",
    "if jumin[6] == '1' or jumin[6] == '3' or jumin[6] == '5':\n",
    "    print('남자')\n",
    "else:\n",
    "    print('여자')\n",
    "    \n",
    "if jumin[6] in ('1','3','5'):\n",
    "    print('남자')\n",
    "else:\n",
    "    print('여자')\n",
    "    \n",
    "if int(jumin[6]) == 1 or int(jumin[6]) == 3 or int(jumin[6]) == 5:\n",
    "    print('남자')\n",
    "else:\n",
    "    print('여자')\n",
    "    \n",
    "if int(jumin[6]) in (1, 3, 5):\n",
    "    print('남자')\n",
    "else:\n",
    "    print('여자')\n",
    "\n",
    "if int(jumin[6]) % 2 == 1:\n",
    "    print(\"남자\")\n",
    "else:\n",
    "    print(\"여지\")"
   ]
  },
  {
   "cell_type": "code",
   "execution_count": 14,
   "metadata": {},
   "outputs": [
    {
     "name": "stdout",
     "output_type": "stream",
     "text": [
      "3과목의 점수를 입력하시오 : 100 100 99\n",
      "총 점 : 299점 평균 :  99.7점 입니다\n",
      "평균 점수 :  99.7점 등급 : A\n"
     ]
    }
   ],
   "source": [
    "# 3과목의 점수를 입력받아 평균을 계산한 후 A,B,C,D,F를 출력한다\n",
    "python,java,android = map(int, input(\"3과목의 점수를 입력하시오 : \").split())\n",
    "total = python + java + android\n",
    "average = total / 3\n",
    "print('총 점 : {0:3d}점 평균 : {1:5.1f}점 입니다'.format(total,average))\n",
    "\n",
    "# 파이썬은 아레와 같은 비교를 허용한다\n",
    "#if(80 <= average < 90):\n",
    "    #print('평균 점수 :{1:5.1f}점 등급 : B'.format(average))\n",
    "    \n",
    "if average >= 90:\n",
    "    print('평균 점수 : {0:5.1f}점 등급 : A'.format(average))\n",
    "elif average >= 80:\n",
    "    print('평균 점수 : {0:5.1f}점 등급 : B'.format(average))\n",
    "elif average >= 70:\n",
    "    print('평균 점수 : {0:5.1f}점 등급 : C'.format(average))\n",
    "elif average >= 60:\n",
    "    print('평균 점수 : {0:5.1f}점 등급 : D'.format(average))\n",
    "else:\n",
    "    print('평균 점수 : {0:5.1f}점 등급 : F'.format(average))"
   ]
  },
  {
   "cell_type": "code",
   "execution_count": 3,
   "metadata": {},
   "outputs": [
    {
     "name": "stdout",
     "output_type": "stream",
     "text": [
      "주민등록번호 13자리를 \"-\"없이 입력하세요 : 9811012212912\n",
      "당신의 출생년도는 1998년이고 당신은 22살 입니다\n"
     ]
    }
   ],
   "source": [
    "# 출생년도 추출\n",
    "jumin = input('주민등록번호 13자리를 \"-\"없이 입력하세요 : ')\n",
    "year = int(jumin[:2])\n",
    "\n",
    "'''\n",
    "if int(jumin[6]) <= 2:\n",
    "    year += 1900\n",
    "else:\n",
    "    year += 2000\n",
    "'''\n",
    "    \n",
    "# if문의 조건 비교 결과가 참이거나 거짓일 때 실행할 문장이 각각 1문장인 경우 3항 연산자를 사용해서 처리할 수 있다\n",
    "# 형식 : 조건이 참일 때 실행할 문장 if 조건식 else 조건이 거짓일 경우 실행할 문장\n",
    "# year += 1900 if in(jumin[6] <= 2)? 1900 : 2000 => c c++ java c#\n",
    "year += 1900 if int(jumin[6]) <= 2 else 2000\n",
    "\n",
    "print('당신의 출생년도는 {}년이고 당신은 {}살 입니다'.format(year, 2020 - year))"
   ]
  },
  {
   "cell_type": "code",
   "execution_count": 7,
   "metadata": {},
   "outputs": [
    {
     "name": "stdout",
     "output_type": "stream",
     "text": [
      "윤년/평년을 판별할 년도를 입력하시오: 2020\n",
      "2020년은 윤년입니다\n",
      "2020년은 윤년 입니다\n",
      "2020년은 윤년 입니다\n",
      "6\n"
     ]
    }
   ],
   "source": [
    "# 윤년 평년 판별식\n",
    "# 년도가 4로 나눠 떨어 지고(and) 100으로 나눠 떨어 지지 않거나(or) 400으로 나눠 떨어 지면 윤년\n",
    "\n",
    "# 프로그램에서 여러 번 사용되는 상수나 연산식 결과는 변수에 저장시켜 사용하면 편라하다\n",
    "isLeapYear = year % 4 == 0 and year % 100 != 0 or year % 400 == 0\n",
    "\n",
    "year = int(input(\"윤년/평년을 판별할 년도를 입력하시오: \"))\n",
    "if isLeapYear:\n",
    "    print('{}년은 윤년입니다'.format(year))\n",
    "else:\n",
    "    print('{}년도는 평년입니다'.format(year))\n",
    "    \n",
    "# 파이썬은 1줄에 1문장을 코딩하는 것을 원칙으로 하지만 1문장이 너무 길어서 \n",
    "# 2줄이상으로 나눠서 코딩하려면 줄을 나눠 줄 위치에서 '\\'를 압력하고 줄을 바꿔 준다\n",
    "print('{}년은 {}년 입니다'.format(year, '윤' if year % 4 == 0 and year % 100 != 0 or \\\n",
    "                            year % 400 == 0 else '평'))\n",
    "print('{}년은 {}년 입니다'.format(year,'윤' if isLeapYear else '평'))\n",
    "\n",
    "# 짧은 길이의 문장을 1줄에 코딩하려면 문장과 문장을 ';'로 구분하면 된다\n",
    "a = 1; b = 2; c= 3\n",
    "print(a + b + c)"
   ]
  },
  {
   "cell_type": "code",
   "execution_count": 9,
   "metadata": {},
   "outputs": [
    {
     "name": "stdout",
     "output_type": "stream",
     "text": [
      "cpu : 3\n",
      "가위(1) 바위(2) 보(3) : 1\n",
      "이겼다!!\n"
     ]
    }
   ],
   "source": [
    "# 가위(1) 바위(2) 보(3)\n",
    "# 컴퓨터가 램덤하게 뽑아 낸 가위 바위 보와 사용자가 입력한 가위 바위 보를 비교한다\n",
    "\n",
    "# random 모듈의 별명을 r로 지정한다\n",
    "# 프로그램에서 random이라는 모듈이름은 사용할 수 없고 r이라는 이름으로 사용해야 한다\n",
    "import random as r\n",
    "cpu = r.randrange(1,4)\n",
    "print('cpu : {}'.format(cpu))\n",
    "\n",
    "user = int(input('가위(1) 바위(2) 보(3) : '))\n",
    "\n",
    "# cpu = 1 user = 2 or cpu = 2 user = 3 or cpu = 3 user = 1 => 승리조건\n",
    "# cpu = 1 user = 3 or cpu = 2 user = 1 or cpu = 3 user = 2 => 패배조건\n",
    "# 승리조건과 패배조건을 만족하지 않으면 비김조건이 된다\n",
    "if(cpu == 1 and user == 2) or (cpu == 2 and user == 3) or (cpu == 3 and user == 1 ):\n",
    "    print(\"이겼다!!\")\n",
    "elif (cpu == 1 and user == 3) or (cpu == 2 and user == 1) or (cpu == 3 and user == 2):\n",
    "    print('졌다ㅠㅠ')\n",
    "else:\n",
    "    print(\"비김\")\n",
    "    "
   ]
  },
  {
   "cell_type": "code",
   "execution_count": null,
   "metadata": {},
   "outputs": [],
   "source": []
  }
 ],
 "metadata": {
  "kernelspec": {
   "display_name": "Python 3",
   "language": "python",
   "name": "python3"
  },
  "language_info": {
   "codemirror_mode": {
    "name": "ipython",
    "version": 3
   },
   "file_extension": ".py",
   "mimetype": "text/x-python",
   "name": "python",
   "nbconvert_exporter": "python",
   "pygments_lexer": "ipython3",
   "version": "3.7.6"
  }
 },
 "nbformat": 4,
 "nbformat_minor": 4
}
